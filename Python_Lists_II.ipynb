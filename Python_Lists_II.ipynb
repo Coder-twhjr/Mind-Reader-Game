{
  "nbformat": 4,
  "nbformat_minor": 0,
  "metadata": {
    "colab": {
      "provenance": [],
      "collapsed_sections": [],
      "include_colab_link": true
    },
    "kernelspec": {
      "name": "python3",
      "display_name": "Python 3"
    }
  },
  "cells": [
    {
      "cell_type": "markdown",
      "metadata": {
        "id": "view-in-github",
        "colab_type": "text"
      },
      "source": [
        "<a href=\"https://colab.research.google.com/github/Coder-twhjr/Mind-Reader-Game/blob/main/Python_Lists_II.ipynb\" target=\"_parent\"><img src=\"https://colab.research.google.com/assets/colab-badge.svg\" alt=\"Open In Colab\"/></a>"
      ]
    },
    {
      "cell_type": "markdown",
      "metadata": {
        "id": "7LlG_PPFjJUz"
      },
      "source": [
        "#Python Lists II"
      ]
    },
    {
      "cell_type": "markdown",
      "metadata": {
        "id": "bQWxe7FVzpnK"
      },
      "source": [
        "####Multiple Data Types"
      ]
    },
    {
      "cell_type": "code",
      "metadata": {
        "id": "Zh7dKWu3zvgS",
        "colab": {
          "base_uri": "https://localhost:8080/"
        },
        "outputId": "dcab0e1b-6cd6-40fb-9d81-2beab41b1392"
      },
      "source": [
        "planet = [\"Mercury\", 4879, 3.7, False]\n",
        "planet"
      ],
      "execution_count": 1,
      "outputs": [
        {
          "output_type": "execute_result",
          "data": {
            "text/plain": [
              "['Mercury', 4879, 3.7, False]"
            ]
          },
          "metadata": {},
          "execution_count": 1
        }
      ]
    },
    {
      "cell_type": "markdown",
      "metadata": {
        "id": "HCSXokBQzz_M"
      },
      "source": [
        "---"
      ]
    },
    {
      "cell_type": "markdown",
      "metadata": {
        "id": "b449Ffvhz0-D"
      },
      "source": [
        "####List Length"
      ]
    },
    {
      "cell_type": "code",
      "metadata": {
        "id": "QmAry8Iyz3hM",
        "colab": {
          "base_uri": "https://localhost:8080/"
        },
        "outputId": "5eca00d0-3c42-4427-c805-63e7c6fe89f6"
      },
      "source": [
        "len(planet)"
      ],
      "execution_count": 2,
      "outputs": [
        {
          "output_type": "execute_result",
          "data": {
            "text/plain": [
              "4"
            ]
          },
          "metadata": {},
          "execution_count": 2
        }
      ]
    },
    {
      "cell_type": "markdown",
      "metadata": {
        "id": "VrrdIxJjzja0"
      },
      "source": [
        "---"
      ]
    },
    {
      "cell_type": "markdown",
      "metadata": {
        "id": "h-foVuZpz9cq"
      },
      "source": [
        "####List Indexing And The `for` Loop"
      ]
    },
    {
      "cell_type": "code",
      "metadata": {
        "id": "-5IyZLF2z-Uz",
        "colab": {
          "base_uri": "https://localhost:8080/"
        },
        "outputId": "d1c9ba43-912f-4971-e28c-d967a9e0cc27"
      },
      "source": [
        "print(\"1st item:\", planet[0])\n",
        "print(\"2nd item:\", planet[1])\n",
        "print(\"3rd item:\", planet[2])\n",
        "print(\"4th item:\", planet[3])"
      ],
      "execution_count": 3,
      "outputs": [
        {
          "output_type": "stream",
          "name": "stdout",
          "text": [
            "1st item: Mercury\n",
            "2nd item: 4879\n",
            "3rd item: 3.7\n",
            "4th item: False\n"
          ]
        }
      ]
    },
    {
      "cell_type": "markdown",
      "metadata": {
        "id": "RzPVnLT04NbD"
      },
      "source": [
        "---"
      ]
    },
    {
      "cell_type": "markdown",
      "metadata": {
        "id": "JOpx4Gje0BkH"
      },
      "source": [
        "\n",
        "\n",
        "### For Loops"
      ]
    },
    {
      "cell_type": "code",
      "metadata": {
        "id": "C-CoERDG0LUN",
        "colab": {
          "base_uri": "https://localhost:8080/"
        },
        "outputId": "67776671-419e-4550-ff35-04aa90d92002"
      },
      "source": [
        "num_items = len(planet)\n",
        "for i in range(num_items):\n",
        "  print(planet[i])"
      ],
      "execution_count": 4,
      "outputs": [
        {
          "output_type": "stream",
          "name": "stdout",
          "text": [
            "Mercury\n",
            "4879\n",
            "3.7\n",
            "False\n"
          ]
        }
      ]
    },
    {
      "cell_type": "code",
      "metadata": {
        "id": "9FBF_dDp0V-b",
        "colab": {
          "base_uri": "https://localhost:8080/"
        },
        "outputId": "fa75375f-9bb5-40c3-de25-1358b409ad8a"
      },
      "source": [
        "for i in planet:\n",
        "  print(i)"
      ],
      "execution_count": 5,
      "outputs": [
        {
          "output_type": "stream",
          "name": "stdout",
          "text": [
            "Mercury\n",
            "4879\n",
            "3.7\n",
            "False\n"
          ]
        }
      ]
    },
    {
      "cell_type": "markdown",
      "metadata": {
        "id": "2mfUa8mDx1t-"
      },
      "source": [
        "**Negative Indexing:**"
      ]
    },
    {
      "cell_type": "code",
      "metadata": {
        "id": "eNow53vbeVyj",
        "colab": {
          "base_uri": "https://localhost:8080/"
        },
        "outputId": "6a1ea29b-5d11-459b-a2ab-bdc66cb78d46"
      },
      "source": [
        "print(\"4th item:\", planet[-1])\n",
        "print(\"3rd item:\", planet[-2])\n",
        "print(\"2nd item:\", planet[-3])\n",
        "print(\"1st item:\", planet[-4])"
      ],
      "execution_count": 6,
      "outputs": [
        {
          "output_type": "stream",
          "name": "stdout",
          "text": [
            "4th item: False\n",
            "3rd item: 3.7\n",
            "2nd item: 4879\n",
            "1st item: Mercury\n"
          ]
        }
      ]
    },
    {
      "cell_type": "code",
      "metadata": {
        "id": "bDQ_d0F5fEdn",
        "colab": {
          "base_uri": "https://localhost:8080/"
        },
        "outputId": "167deb98-d4ec-4479-fa1a-71cef6170955"
      },
      "source": [
        "n = len(planet)\n",
        "for i in range(1, n + 1):\n",
        "  print(planet[-i])"
      ],
      "execution_count": 7,
      "outputs": [
        {
          "output_type": "stream",
          "name": "stdout",
          "text": [
            "False\n",
            "3.7\n",
            "4879\n",
            "Mercury\n"
          ]
        }
      ]
    },
    {
      "cell_type": "markdown",
      "metadata": {
        "id": "MfTs0p63z8fE"
      },
      "source": [
        "---"
      ]
    },
    {
      "cell_type": "markdown",
      "metadata": {
        "id": "ZAylC_zL6ugR"
      },
      "source": [
        "####List Slicing"
      ]
    },
    {
      "cell_type": "code",
      "metadata": {
        "id": "AQ_0cIRS0yPB",
        "colab": {
          "base_uri": "https://localhost:8080/"
        },
        "outputId": "05d48220-5cad-4029-9b7c-de27ce392004"
      },
      "source": [
        "my_cars = ['Chrysler', 'Lamborghini', 'Bugatti', 'Porsche', 'Ford', 'Rolls Royce', 'Suzuki', 'Bentley', 'Lexus', 'Tesla']\n",
        "my_cars[0:5]"
      ],
      "execution_count": 8,
      "outputs": [
        {
          "output_type": "execute_result",
          "data": {
            "text/plain": [
              "['Chrysler', 'Lamborghini', 'Bugatti', 'Porsche', 'Ford']"
            ]
          },
          "metadata": {},
          "execution_count": 8
        }
      ]
    },
    {
      "cell_type": "code",
      "metadata": {
        "id": "c0z7tD64pwDg",
        "colab": {
          "base_uri": "https://localhost:8080/"
        },
        "outputId": "dd138091-d351-447c-fb10-a6b8e17241c1"
      },
      "source": [
        "my_cars[:5]"
      ],
      "execution_count": 9,
      "outputs": [
        {
          "output_type": "execute_result",
          "data": {
            "text/plain": [
              "['Chrysler', 'Lamborghini', 'Bugatti', 'Porsche', 'Ford']"
            ]
          },
          "metadata": {},
          "execution_count": 9
        }
      ]
    },
    {
      "cell_type": "code",
      "metadata": {
        "id": "iEiOH3rGCIHb",
        "colab": {
          "base_uri": "https://localhost:8080/"
        },
        "outputId": "a9c4571f-6231-48f3-d0b0-97498cf7429b"
      },
      "source": [
        "my_cars[1:8]"
      ],
      "execution_count": 10,
      "outputs": [
        {
          "output_type": "execute_result",
          "data": {
            "text/plain": [
              "['Lamborghini',\n",
              " 'Bugatti',\n",
              " 'Porsche',\n",
              " 'Ford',\n",
              " 'Rolls Royce',\n",
              " 'Suzuki',\n",
              " 'Bentley']"
            ]
          },
          "metadata": {},
          "execution_count": 10
        }
      ]
    },
    {
      "cell_type": "code",
      "metadata": {
        "id": "TKMHaHBHo8Gy",
        "colab": {
          "base_uri": "https://localhost:8080/"
        },
        "outputId": "3514ab7a-27f7-406b-bd69-4e782ea361b2"
      },
      "source": [
        "n = len(my_cars)\n",
        "my_cars[0:n:2]"
      ],
      "execution_count": 11,
      "outputs": [
        {
          "output_type": "execute_result",
          "data": {
            "text/plain": [
              "['Chrysler', 'Bugatti', 'Ford', 'Suzuki', 'Lexus']"
            ]
          },
          "metadata": {},
          "execution_count": 11
        }
      ]
    },
    {
      "cell_type": "code",
      "metadata": {
        "id": "1b50S7aptGxL",
        "colab": {
          "base_uri": "https://localhost:8080/"
        },
        "outputId": "665d12d5-18cd-4c08-f874-58c5cadba5e8"
      },
      "source": [
        "my_cars[::-1]"
      ],
      "execution_count": 12,
      "outputs": [
        {
          "output_type": "execute_result",
          "data": {
            "text/plain": [
              "['Tesla',\n",
              " 'Lexus',\n",
              " 'Bentley',\n",
              " 'Suzuki',\n",
              " 'Rolls Royce',\n",
              " 'Ford',\n",
              " 'Porsche',\n",
              " 'Bugatti',\n",
              " 'Lamborghini',\n",
              " 'Chrysler']"
            ]
          },
          "metadata": {},
          "execution_count": 12
        }
      ]
    },
    {
      "cell_type": "markdown",
      "metadata": {
        "id": "QFmDbPBs0ye8"
      },
      "source": [
        "---"
      ]
    },
    {
      "cell_type": "markdown",
      "metadata": {
        "id": "R5OAAjHrD-N-"
      },
      "source": [
        "####Index Of An Item"
      ]
    },
    {
      "cell_type": "code",
      "metadata": {
        "id": "ZNCl8haaDgfZ",
        "colab": {
          "base_uri": "https://localhost:8080/"
        },
        "outputId": "d5f206a7-5f68-4965-d217-a6d35d5d8cf1"
      },
      "source": [
        "my_cars.index('Ford')"
      ],
      "execution_count": 13,
      "outputs": [
        {
          "output_type": "execute_result",
          "data": {
            "text/plain": [
              "4"
            ]
          },
          "metadata": {},
          "execution_count": 13
        }
      ]
    },
    {
      "cell_type": "markdown",
      "metadata": {
        "id": "-5Y_OPoBGTwZ"
      },
      "source": [
        "---"
      ]
    },
    {
      "cell_type": "markdown",
      "metadata": {
        "id": "Z5pRYBB0CedN"
      },
      "source": [
        "####Removing An Item"
      ]
    },
    {
      "cell_type": "code",
      "metadata": {
        "id": "u_tvV0GzC4Nn",
        "colab": {
          "base_uri": "https://localhost:8080/"
        },
        "outputId": "a20613e2-3e45-4f97-ded7-facf4a3c20a7"
      },
      "source": [
        "my_cars.remove('Bentley')\n",
        "my_cars"
      ],
      "execution_count": 14,
      "outputs": [
        {
          "output_type": "execute_result",
          "data": {
            "text/plain": [
              "['Chrysler',\n",
              " 'Lamborghini',\n",
              " 'Bugatti',\n",
              " 'Porsche',\n",
              " 'Ford',\n",
              " 'Rolls Royce',\n",
              " 'Suzuki',\n",
              " 'Lexus',\n",
              " 'Tesla']"
            ]
          },
          "metadata": {},
          "execution_count": 14
        }
      ]
    },
    {
      "cell_type": "markdown",
      "metadata": {
        "id": "WxeRaXtGD3D8"
      },
      "source": [
        "---"
      ]
    },
    {
      "cell_type": "markdown",
      "metadata": {
        "id": "HWmHX1zpD44h"
      },
      "source": [
        "####The `pop()` Function"
      ]
    },
    {
      "cell_type": "code",
      "metadata": {
        "id": "iJv5JtPcD4Hb",
        "colab": {
          "base_uri": "https://localhost:8080/"
        },
        "outputId": "d6385cc7-0c0a-481b-ea18-4c665742948b"
      },
      "source": [
        "print(\"List of cars before using the pop() function.\")\n",
        "print(my_cars)\n",
        "\n",
        "my_cars.pop()\n",
        "\n",
        "print(\"List of cars after using the pop() function.\")\n",
        "print(my_cars)"
      ],
      "execution_count": 15,
      "outputs": [
        {
          "output_type": "stream",
          "name": "stdout",
          "text": [
            "List of cars before using the pop() function.\n",
            "['Chrysler', 'Lamborghini', 'Bugatti', 'Porsche', 'Ford', 'Rolls Royce', 'Suzuki', 'Lexus', 'Tesla']\n",
            "List of cars after using the pop() function.\n",
            "['Chrysler', 'Lamborghini', 'Bugatti', 'Porsche', 'Ford', 'Rolls Royce', 'Suzuki', 'Lexus']\n"
          ]
        }
      ]
    },
    {
      "cell_type": "code",
      "metadata": {
        "id": "nvlCvhdqSXkG",
        "colab": {
          "base_uri": "https://localhost:8080/"
        },
        "outputId": "995e2ba8-8499-4dde-ce14-34e2d8b6be84"
      },
      "source": [
        "my_cars.pop(3)\n",
        "my_cars"
      ],
      "execution_count": 16,
      "outputs": [
        {
          "output_type": "execute_result",
          "data": {
            "text/plain": [
              "['Chrysler',\n",
              " 'Lamborghini',\n",
              " 'Bugatti',\n",
              " 'Ford',\n",
              " 'Rolls Royce',\n",
              " 'Suzuki',\n",
              " 'Lexus']"
            ]
          },
          "metadata": {},
          "execution_count": 16
        }
      ]
    },
    {
      "cell_type": "markdown",
      "metadata": {
        "id": "wGbMbNgLEAaF"
      },
      "source": [
        "---"
      ]
    },
    {
      "cell_type": "markdown",
      "metadata": {
        "id": "6MbJIuLm2mru"
      },
      "source": [
        "####Item Replacement"
      ]
    },
    {
      "cell_type": "code",
      "metadata": {
        "id": "rUdiT9wr3lXk",
        "colab": {
          "base_uri": "https://localhost:8080/"
        },
        "outputId": "2d9beb64-0196-4fea-e141-aa4000f75f0a"
      },
      "source": [
        "index_of_suzuki = my_cars.index('Suzuki')\n",
        "\n",
        "my_cars[index_of_suzuki] = 'McLaren'\n",
        "my_cars"
      ],
      "execution_count": 17,
      "outputs": [
        {
          "output_type": "execute_result",
          "data": {
            "text/plain": [
              "['Chrysler',\n",
              " 'Lamborghini',\n",
              " 'Bugatti',\n",
              " 'Ford',\n",
              " 'Rolls Royce',\n",
              " 'McLaren',\n",
              " 'Lexus']"
            ]
          },
          "metadata": {},
          "execution_count": 17
        }
      ]
    },
    {
      "cell_type": "code",
      "metadata": {
        "id": "crN7kFwW7v2A",
        "colab": {
          "base_uri": "https://localhost:8080/"
        },
        "outputId": "59f05a50-0b4f-4bb6-dfd9-32d2aac85345"
      },
      "source": [
        "index_of_lexus = my_cars.index('Lexus')\n",
        "my_cars[index_of_lexus] = 'Aston Martin'\n",
        "my_cars"
      ],
      "execution_count": 18,
      "outputs": [
        {
          "output_type": "execute_result",
          "data": {
            "text/plain": [
              "['Chrysler',\n",
              " 'Lamborghini',\n",
              " 'Bugatti',\n",
              " 'Ford',\n",
              " 'Rolls Royce',\n",
              " 'McLaren',\n",
              " 'Aston Martin']"
            ]
          },
          "metadata": {},
          "execution_count": 18
        }
      ]
    },
    {
      "cell_type": "markdown",
      "metadata": {
        "id": "Y_pSI5rb8a7y"
      },
      "source": [
        "---"
      ]
    },
    {
      "cell_type": "markdown",
      "metadata": {
        "id": "KNx433c0ZWH1"
      },
      "source": [
        "####List Triangle I"
      ]
    },
    {
      "cell_type": "code",
      "metadata": {
        "id": "AhtGhVNhZcBF",
        "colab": {
          "base_uri": "https://localhost:8080/"
        },
        "outputId": "98a1522f-0a00-4e4e-b936-0f60a066630a"
      },
      "source": [
        "nums = [0, 1, 2, 3, 4, 5, 6, 7, 8, 9]\n",
        "for i in range(len(nums)):\n",
        "  print(nums[:i+1])"
      ],
      "execution_count": 19,
      "outputs": [
        {
          "output_type": "stream",
          "name": "stdout",
          "text": [
            "[0]\n",
            "[0, 1]\n",
            "[0, 1, 2]\n",
            "[0, 1, 2, 3]\n",
            "[0, 1, 2, 3, 4]\n",
            "[0, 1, 2, 3, 4, 5]\n",
            "[0, 1, 2, 3, 4, 5, 6]\n",
            "[0, 1, 2, 3, 4, 5, 6, 7]\n",
            "[0, 1, 2, 3, 4, 5, 6, 7, 8]\n",
            "[0, 1, 2, 3, 4, 5, 6, 7, 8, 9]\n"
          ]
        }
      ]
    },
    {
      "cell_type": "markdown",
      "metadata": {
        "id": "HbZaa3tvaSKJ"
      },
      "source": [
        "---"
      ]
    },
    {
      "cell_type": "markdown",
      "metadata": {
        "id": "l9sMPgJkaMgF"
      },
      "source": [
        "####List Triangle II"
      ]
    },
    {
      "cell_type": "code",
      "metadata": {
        "id": "I0Q7nvWPZ0Zv",
        "colab": {
          "base_uri": "https://localhost:8080/"
        },
        "outputId": "9c79c4b6-2c20-4a55-9f90-d5b8bce2b38b"
      },
      "source": [
        "nums = [0, 1, 2, 3, 4, 5, 6, 7, 8, 9]\n",
        "for i in range(len(nums)):\n",
        "  print(nums[i:len(nums)])"
      ],
      "execution_count": 20,
      "outputs": [
        {
          "output_type": "stream",
          "name": "stdout",
          "text": [
            "[0, 1, 2, 3, 4, 5, 6, 7, 8, 9]\n",
            "[1, 2, 3, 4, 5, 6, 7, 8, 9]\n",
            "[2, 3, 4, 5, 6, 7, 8, 9]\n",
            "[3, 4, 5, 6, 7, 8, 9]\n",
            "[4, 5, 6, 7, 8, 9]\n",
            "[5, 6, 7, 8, 9]\n",
            "[6, 7, 8, 9]\n",
            "[7, 8, 9]\n",
            "[8, 9]\n",
            "[9]\n"
          ]
        }
      ]
    },
    {
      "cell_type": "markdown",
      "metadata": {
        "id": "TceS0EX7dNdt"
      },
      "source": [
        "---"
      ]
    },
    {
      "cell_type": "markdown",
      "metadata": {
        "id": "5FI7MSvQdSU4"
      },
      "source": [
        "####Exponents "
      ]
    },
    {
      "cell_type": "code",
      "metadata": {
        "id": "1gfgpQi6az9b",
        "colab": {
          "base_uri": "https://localhost:8080/"
        },
        "outputId": "809a2a51-c65d-4b08-a051-e18e7f13bf4a"
      },
      "source": [
        "num = 1  \n",
        "nums = []\n",
        "while num < 10:\n",
        "  nums.append(num)\n",
        "  num = num + 1\n",
        "for i in range(len(nums)):\n",
        "  temp_list = []\n",
        "  for j in range(len(nums)):\n",
        "    temp_list.append(nums[j] ** (i + 1))\n",
        "  print(\"Numbers raised to power\", i + 1, \"==>\", temp_list)"
      ],
      "execution_count": 21,
      "outputs": [
        {
          "output_type": "stream",
          "name": "stdout",
          "text": [
            "Numbers raised to power 1 ==> [1, 2, 3, 4, 5, 6, 7, 8, 9]\n",
            "Numbers raised to power 2 ==> [1, 4, 9, 16, 25, 36, 49, 64, 81]\n",
            "Numbers raised to power 3 ==> [1, 8, 27, 64, 125, 216, 343, 512, 729]\n",
            "Numbers raised to power 4 ==> [1, 16, 81, 256, 625, 1296, 2401, 4096, 6561]\n",
            "Numbers raised to power 5 ==> [1, 32, 243, 1024, 3125, 7776, 16807, 32768, 59049]\n",
            "Numbers raised to power 6 ==> [1, 64, 729, 4096, 15625, 46656, 117649, 262144, 531441]\n",
            "Numbers raised to power 7 ==> [1, 128, 2187, 16384, 78125, 279936, 823543, 2097152, 4782969]\n",
            "Numbers raised to power 8 ==> [1, 256, 6561, 65536, 390625, 1679616, 5764801, 16777216, 43046721]\n",
            "Numbers raised to power 9 ==> [1, 512, 19683, 262144, 1953125, 10077696, 40353607, 134217728, 387420489]\n"
          ]
        }
      ]
    },
    {
      "cell_type": "markdown",
      "metadata": {
        "id": "-R6rAVnIZRMn"
      },
      "source": [
        "---"
      ]
    }
  ]
}