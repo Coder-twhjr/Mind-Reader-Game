{
  "nbformat": 4,
  "nbformat_minor": 0,
  "metadata": {
    "colab": {
      "provenance": [],
      "collapsed_sections": [],
      "include_colab_link": true
    },
    "kernelspec": {
      "name": "python3",
      "display_name": "Python 3"
    }
  },
  "cells": [
    {
      "cell_type": "markdown",
      "metadata": {
        "id": "view-in-github",
        "colab_type": "text"
      },
      "source": [
        "<a href=\"https://colab.research.google.com/github/Coder-twhjr/Mind-Reader-Game/blob/main/Project_9.ipynb\" target=\"_parent\"><img src=\"https://colab.research.google.com/assets/colab-badge.svg\" alt=\"Open In Colab\"/></a>"
      ]
    },
    {
      "cell_type": "markdown",
      "metadata": {
        "id": "bEyBzxYRhrLG"
      },
      "source": [
        "#### Goal of the Project\n",
        " 1. Python Lists I\n",
        "\n",
        " 2. NumPy Arrays I"
      ]
    },
    {
      "cell_type": "code",
      "metadata": {
        "id": "4EAoTskqg041",
        "colab": {
          "base_uri": "https://localhost:8080/"
        },
        "outputId": "a4e4e27c-72ad-447a-ab8a-2810fcd048b0"
      },
      "source": [
        "import numpy as np\n",
        "x = np.arange(2, 11).reshape(3,3)\n",
        "print(x)"
      ],
      "execution_count": 1,
      "outputs": [
        {
          "output_type": "stream",
          "name": "stdout",
          "text": [
            "[[ 2  3  4]\n",
            " [ 5  6  7]\n",
            " [ 8  9 10]]\n"
          ]
        }
      ]
    },
    {
      "cell_type": "markdown",
      "metadata": {
        "id": "xJlPs9X9oeRw"
      },
      "source": [
        "---"
      ]
    },
    {
      "cell_type": "code",
      "metadata": {
        "id": "AtvPTG3kpBoS",
        "colab": {
          "base_uri": "https://localhost:8080/"
        },
        "outputId": "a48d7a15-c05b-433a-cfc1-b1ee86137b98"
      },
      "source": [
        "import numpy as np\n",
        "my_arr = np.array([1, 2, 3, 4, 5, 6, 7, 8, 9])\n",
        "print(\"Original array is\",my_arr)\n",
        "print(\"Dimension is\",my_arr.shape)\n",
        "print(\"Change array shape to (3, 3) -> 3 rows and 3 columns \")\n",
        "my_arr.shape = (3, 3)\n",
        "print(my_arr)\n",
        "converted_list=list(my_arr)\n",
        "print(\"The data type of the converted variable is:\")\n",
        "type(converted_list)"
      ],
      "execution_count": 2,
      "outputs": [
        {
          "output_type": "stream",
          "name": "stdout",
          "text": [
            "Original array is [1 2 3 4 5 6 7 8 9]\n",
            "Dimension is (9,)\n",
            "Change array shape to (3, 3) -> 3 rows and 3 columns \n",
            "[[1 2 3]\n",
            " [4 5 6]\n",
            " [7 8 9]]\n",
            "The data type of the converted variable is:\n"
          ]
        },
        {
          "output_type": "execute_result",
          "data": {
            "text/plain": [
              "list"
            ]
          },
          "metadata": {},
          "execution_count": 2
        }
      ]
    },
    {
      "cell_type": "markdown",
      "metadata": {
        "id": "KOVBiUSMzut1"
      },
      "source": [
        "---"
      ]
    },
    {
      "cell_type": "code",
      "metadata": {
        "id": "d5ufKLNYzsIl",
        "colab": {
          "base_uri": "https://localhost:8080/"
        },
        "outputId": "999f65fd-1a5d-4152-ee71-f59d208f466b"
      },
      "source": [
        "import numpy as np\n",
        "\n",
        "list1 = [4, 16, 9, 1, 25, 47]\n",
        "output1 = np.sqrt(list1)\n",
        "print(output1)\n",
        "a=27\n",
        "b=39\n",
        "output2 = np.sqrt(a ** 2 + b ** 2)\n",
        "print(\"The value of c = \", output2)"
      ],
      "execution_count": 3,
      "outputs": [
        {
          "output_type": "stream",
          "name": "stdout",
          "text": [
            "[2.        4.        3.        1.        5.        6.8556546]\n",
            "The value of c =  47.43416490252569\n"
          ]
        }
      ]
    },
    {
      "cell_type": "markdown",
      "metadata": {
        "id": "HSz7jRSlGxIO"
      },
      "source": [
        "---"
      ]
    }
  ]
}