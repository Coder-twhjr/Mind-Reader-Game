{
  "nbformat": 4,
  "nbformat_minor": 0,
  "metadata": {
    "colab": {
      "provenance": [],
      "collapsed_sections": [],
      "include_colab_link": true
    },
    "kernelspec": {
      "name": "python3",
      "display_name": "Python 3"
    }
  },
  "cells": [
    {
      "cell_type": "markdown",
      "metadata": {
        "id": "view-in-github",
        "colab_type": "text"
      },
      "source": [
        "<a href=\"https://colab.research.google.com/github/Coder-twhjr/Mind-Reader-Game/blob/main/While_Loop%2C_Data_Type_Conversion_%26_Conditional_Statements.ipynb\" target=\"_parent\"><img src=\"https://colab.research.google.com/assets/colab-badge.svg\" alt=\"Open In Colab\"/></a>"
      ]
    },
    {
      "cell_type": "markdown",
      "metadata": {
        "id": "mFDyd3uB4WBx"
      },
      "source": [
        "#While Loop, Data-Type Conversion & Conditional Statements"
      ]
    },
    {
      "cell_type": "markdown",
      "metadata": {
        "id": "9p4gmk7cT5pP"
      },
      "source": [
        "###Score Keeping "
      ]
    },
    {
      "cell_type": "code",
      "metadata": {
        "id": "bW7I8cgDXmKe"
      },
      "source": [
        "player_score = 0\n",
        "computer_score = 0"
      ],
      "execution_count": null,
      "outputs": []
    },
    {
      "cell_type": "code",
      "metadata": {
        "id": "JLC7qnO_t8ZY",
        "colab": {
          "base_uri": "https://localhost:8080/"
        },
        "outputId": "689eb13b-3b5b-48cf-986d-544f964a6d9e"
      },
      "source": [
        "player_score = player_score + 1\n",
        "player_score"
      ],
      "execution_count": null,
      "outputs": [
        {
          "output_type": "execute_result",
          "data": {
            "text/plain": [
              "1"
            ]
          },
          "metadata": {},
          "execution_count": 2
        }
      ]
    },
    {
      "cell_type": "code",
      "metadata": {
        "id": "JKNPhIFavOr_",
        "colab": {
          "base_uri": "https://localhost:8080/"
        },
        "outputId": "83604a7d-f79e-47b4-e317-5bd2829179d2"
      },
      "source": [
        "computer_score = computer_score + 1\n",
        "computer_score"
      ],
      "execution_count": null,
      "outputs": [
        {
          "output_type": "execute_result",
          "data": {
            "text/plain": [
              "1"
            ]
          },
          "metadata": {},
          "execution_count": 3
        }
      ]
    },
    {
      "cell_type": "markdown",
      "metadata": {
        "id": "OfNvRrSlfugO"
      },
      "source": [
        "---"
      ]
    },
    {
      "cell_type": "markdown",
      "metadata": {
        "id": "fA09LBPiIEJw"
      },
      "source": [
        "###The `while` Loop"
      ]
    },
    {
      "cell_type": "code",
      "metadata": {
        "id": "Jdr2h0hNyyen",
        "colab": {
          "base_uri": "https://localhost:8080/"
        },
        "outputId": "2bcade88-0726-4f63-ccb7-e44d8fc79b77"
      },
      "source": [
        "player_score = 0\n",
        "\n",
        "while player_score < 50:\n",
        "  player_score = player_score + 1\n",
        "\n",
        "player_score"
      ],
      "execution_count": null,
      "outputs": [
        {
          "output_type": "execute_result",
          "data": {
            "text/plain": [
              "50"
            ]
          },
          "metadata": {},
          "execution_count": 4
        }
      ]
    },
    {
      "cell_type": "code",
      "metadata": {
        "id": "mAsQQVNY11ZR",
        "colab": {
          "base_uri": "https://localhost:8080/"
        },
        "outputId": "b43104c9-9238-464e-a10f-fbd1a7a9561c"
      },
      "source": [
        "computer_score = 0\n",
        "\n",
        "while computer_score < 50:\n",
        "  computer_score = computer_score + 1\n",
        "\n",
        "computer_score"
      ],
      "execution_count": null,
      "outputs": [
        {
          "output_type": "execute_result",
          "data": {
            "text/plain": [
              "50"
            ]
          },
          "metadata": {},
          "execution_count": 5
        }
      ]
    },
    {
      "cell_type": "markdown",
      "metadata": {
        "id": "L63HNPrHjKX2"
      },
      "source": [
        "---"
      ]
    },
    {
      "cell_type": "markdown",
      "metadata": {
        "id": "bRVMkkJTCmvC"
      },
      "source": [
        "###Data-Type Conversion"
      ]
    },
    {
      "cell_type": "code",
      "metadata": {
        "id": "X_RpajwREJeV",
        "colab": {
          "base_uri": "https://localhost:8080/"
        },
        "outputId": "0feed7c0-05d3-4b01-d323-b789803c4227"
      },
      "source": [
        "player_input = input(\"Enter either 0 or 1: \")\n",
        "type(player_input)"
      ],
      "execution_count": null,
      "outputs": [
        {
          "name": "stdout",
          "output_type": "stream",
          "text": [
            "Enter either 0 or 1: 0\n"
          ]
        },
        {
          "output_type": "execute_result",
          "data": {
            "text/plain": [
              "str"
            ]
          },
          "metadata": {},
          "execution_count": 6
        }
      ]
    },
    {
      "cell_type": "code",
      "metadata": {
        "id": "V9TqpcgpE12z",
        "colab": {
          "base_uri": "https://localhost:8080/"
        },
        "outputId": "cddc1bc0-22a9-4985-a5a8-c9c3376cf876"
      },
      "source": [
        "player_input = int(player_input)\n",
        "type(player_input)"
      ],
      "execution_count": null,
      "outputs": [
        {
          "output_type": "execute_result",
          "data": {
            "text/plain": [
              "int"
            ]
          },
          "metadata": {},
          "execution_count": 7
        }
      ]
    },
    {
      "cell_type": "markdown",
      "metadata": {
        "id": "d_BR_mwLEIhU"
      },
      "source": [
        "---"
      ]
    },
    {
      "cell_type": "markdown",
      "metadata": {
        "id": "WC-7ScvE6xa-"
      },
      "source": [
        "###The Conditional Statement"
      ]
    },
    {
      "cell_type": "code",
      "metadata": {
        "id": "azu2Efdk_oR3",
        "colab": {
          "base_uri": "https://localhost:8080/"
        },
        "outputId": "6d916a02-6448-40f2-b0a9-75730f28f4d3"
      },
      "source": [
        "import random\n",
        "die_roll = random.randint(1, 6)\n",
        "print(die_roll)\n",
        "if die_roll == 1:\n",
        "  print(\"Outcome is one.\")\n",
        "else:\n",
        "  print(\"Outcome is not one.\")"
      ],
      "execution_count": null,
      "outputs": [
        {
          "output_type": "stream",
          "name": "stdout",
          "text": [
            "6\n",
            "Outcome is not one.\n"
          ]
        }
      ]
    },
    {
      "cell_type": "code",
      "metadata": {
        "id": "xiXQtlVNDomg",
        "colab": {
          "base_uri": "https://localhost:8080/"
        },
        "outputId": "a037b14c-0ab1-4526-db43-990942117eb9"
      },
      "source": [
        "die_roll = random.randint(1, 6)\n",
        "\n",
        "print(die_roll)\n",
        "\n",
        "if die_roll == 2:\n",
        "  print(\"Outome is a prime number.\")\n",
        "elif die_roll == 3:\n",
        "  print(\"Outcome is a prime number.\")\n",
        "elif die_roll == 5:\n",
        "  print(\"Outcome is a prime number.\")\n",
        "else:\n",
        "  print(\"Outcome is not a prime number.\")"
      ],
      "execution_count": null,
      "outputs": [
        {
          "output_type": "stream",
          "name": "stdout",
          "text": [
            "1\n",
            "Outcome is not a prime number.\n"
          ]
        }
      ]
    },
    {
      "cell_type": "code",
      "metadata": {
        "id": "HedSSdYRHSs5",
        "colab": {
          "base_uri": "https://localhost:8080/"
        },
        "outputId": "cedfa669-60de-4612-bb9b-7cd8573204e9"
      },
      "source": [
        "player_score = 0\n",
        "computer_score = 0\n",
        "\n",
        "predict = random.randint(0, 1)\n",
        "\n",
        "player_input = input(\"Enter either 0 or 1: \")\n",
        "\n",
        "player_input = int(player_input)\n",
        "\n",
        "if predict == player_input:\n",
        "  computer_score = computer_score + 1\n",
        "  print(\"Player Score:\", player_score)\n",
        "  print(\"Computer Score:\", computer_score)\n",
        "else:\n",
        "  player_score = player_score + 1\n",
        "  print(\"Player Score:\", player_score)\n",
        "  print(\"Computer Score:\", computer_score)"
      ],
      "execution_count": null,
      "outputs": [
        {
          "output_type": "stream",
          "name": "stdout",
          "text": [
            "Enter either 0 or 1: 0\n",
            "Player Score: 0\n",
            "Computer Score: 1\n"
          ]
        }
      ]
    },
    {
      "cell_type": "markdown",
      "metadata": {
        "id": "SxNUVmhP6vaN"
      },
      "source": [
        "---"
      ]
    },
    {
      "cell_type": "markdown",
      "metadata": {
        "id": "4X2Rl4FSXD6W"
      },
      "source": [
        "###Restrict Invalid Inputs And Run The Game"
      ]
    },
    {
      "cell_type": "code",
      "metadata": {
        "id": "9Ted5QSbTskd",
        "colab": {
          "base_uri": "https://localhost:8080/"
        },
        "outputId": "64cb34c8-69f9-45f3-b0c5-fb8dcc5f0903"
      },
      "source": [
        "import random\n",
        "\n",
        "player_score = 0\n",
        "computer_score = 0\n",
        "\n",
        "valid_entries = ['0', '1']\n",
        "\n",
        "while True:\n",
        "  predict = random.randint(0, 1)\n",
        "  player_input = input(\"Enter either 0 or 1: \")\n",
        "  while player_input not in valid_entries:\n",
        "    print(\"Invalid Input!\")\n",
        "    player_input = input(\"Please enter either 0 or 1: \")\n",
        "   \n",
        "  player_input = int(player_input)\n",
        "\n",
        "  if predict == player_input:\n",
        "    computer_score = computer_score + 1\n",
        "    print(\"Player Score:\", player_score)\n",
        "    print(\"Computer Score:\", computer_score)\n",
        "  else:\n",
        "    player_score = player_score + 1\n",
        "    print(\"Player Score:\", player_score)\n",
        "    print(\"Computer Score:\", computer_score)\n",
        "\n",
        "  if computer_score == 10:\n",
        "    print(\"Bad Luck, Computer Wins!\")\n",
        "    break\n",
        "  elif player_score == 10:\n",
        "    print(\"Congrats, You Won!\")\n",
        "    break"
      ],
      "execution_count": null,
      "outputs": [
        {
          "output_type": "stream",
          "name": "stdout",
          "text": [
            "Enter either 0 or 1: 1\n",
            "Player Score: 0\n",
            "Computer Score: 1\n",
            "Enter either 0 or 1: 1\n",
            "Player Score: 1\n",
            "Computer Score: 1\n",
            "Enter either 0 or 1: 0\n",
            "Player Score: 1\n",
            "Computer Score: 2\n",
            "Enter either 0 or 1: 1\n",
            "Player Score: 1\n",
            "Computer Score: 3\n",
            "Enter either 0 or 1: 0\n",
            "Player Score: 2\n",
            "Computer Score: 3\n",
            "Enter either 0 or 1: 1\n",
            "Player Score: 2\n",
            "Computer Score: 4\n",
            "Enter either 0 or 1: 1\n",
            "Player Score: 3\n",
            "Computer Score: 4\n",
            "Enter either 0 or 1: 1\n",
            "Player Score: 4\n",
            "Computer Score: 4\n",
            "Enter either 0 or 1: 0\n",
            "Player Score: 5\n",
            "Computer Score: 4\n",
            "Enter either 0 or 1: 0\n",
            "Player Score: 6\n",
            "Computer Score: 4\n",
            "Enter either 0 or 1: 0\n",
            "Player Score: 6\n",
            "Computer Score: 5\n",
            "Enter either 0 or 1: 1\n",
            "Player Score: 6\n",
            "Computer Score: 6\n",
            "Enter either 0 or 1: 1\n",
            "Player Score: 6\n",
            "Computer Score: 7\n",
            "Enter either 0 or 1: 1\n",
            "Player Score: 6\n",
            "Computer Score: 8\n",
            "Enter either 0 or 1: 0\n",
            "Player Score: 6\n",
            "Computer Score: 9\n",
            "Enter either 0 or 1: 0\n",
            "Player Score: 6\n",
            "Computer Score: 10\n",
            "Bad Luck, Computer Wins!\n"
          ]
        }
      ]
    },
    {
      "cell_type": "markdown",
      "metadata": {
        "id": "zhFa_hYYTVwJ"
      },
      "source": [
        "---"
      ]
    }
  ]
}