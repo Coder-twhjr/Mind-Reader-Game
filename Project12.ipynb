{
  "nbformat": 4,
  "nbformat_minor": 0,
  "metadata": {
    "colab": {
      "provenance": [],
      "collapsed_sections": [],
      "include_colab_link": true
    },
    "kernelspec": {
      "name": "python3",
      "display_name": "Python 3"
    }
  },
  "cells": [
    {
      "cell_type": "markdown",
      "metadata": {
        "id": "view-in-github",
        "colab_type": "text"
      },
      "source": [
        "<a href=\"https://colab.research.google.com/github/Coder-twhjr/Mind-Reader-Game/blob/main/Project12.ipynb\" target=\"_parent\"><img src=\"https://colab.research.google.com/assets/colab-badge.svg\" alt=\"Open In Colab\"/></a>"
      ]
    },
    {
      "cell_type": "markdown",
      "metadata": {
        "id": "fIKnY8occu37"
      },
      "source": [
        "#### Goal of the Project\n",
        "\n",
        "1. While Loop, Data-Type Conversion and Conditional Statements.\n",
        "\n",
        "2. Improving the Algorithm (Functions).\n"
      ]
    },
    {
      "cell_type": "markdown",
      "metadata": {
        "id": "BBqkpH4_Doqe"
      },
      "source": [
        "---"
      ]
    },
    {
      "cell_type": "code",
      "metadata": {
        "id": "AtvPTG3kpBoS",
        "colab": {
          "base_uri": "https://localhost:8080/"
        },
        "outputId": "a47daa4c-da65-48bc-8a1a-de1ed70594c8"
      },
      "source": [
        "import random\n",
        "\n",
        "def num_guess(n):\n",
        "\n",
        "  user_guess = int(input(\"Enter a number between 10 and 20: \"))\n",
        "\n",
        "  if user_guess > n:\n",
        "    return 'You guessed high!, The number is', n\n",
        "\n",
        "  if user_guess < n:\n",
        "    return 'You guessed small!, The number is', n\n",
        "\n",
        "  if user_guess == n:\n",
        "    return 'Correct Guess!, The number is', n\n",
        "\n",
        "\n",
        "rand_num = random.randint(10,20)\n",
        "\n",
        "num_guess(rand_num)"
      ],
      "execution_count": 1,
      "outputs": [
        {
          "name": "stdout",
          "output_type": "stream",
          "text": [
            "Enter a number between 10 and 20: 17\n"
          ]
        },
        {
          "output_type": "execute_result",
          "data": {
            "text/plain": [
              "('You guessed high!, The number is', 14)"
            ]
          },
          "metadata": {},
          "execution_count": 1
        }
      ]
    },
    {
      "cell_type": "markdown",
      "metadata": {
        "id": "KOVBiUSMzut1"
      },
      "source": [
        "---"
      ]
    },
    {
      "cell_type": "code",
      "metadata": {
        "colab": {
          "base_uri": "https://localhost:8080/"
        },
        "id": "TxPTttbejfMm",
        "outputId": "09c90b4c-2a13-403a-8d51-a9759456d2c4"
      },
      "source": [
        "def calculator(num1, num2):\n",
        "\n",
        "    print(\"Select operation.\")\n",
        "    print(\"1.Add\")\n",
        "    print(\"2.Subtract\")\n",
        "    print(\"3.Multiply\")\n",
        "    print(\"4.Divide\")\n",
        "\n",
        "    choice = input(\"Enter choice(1/2/3/4): \")\n",
        "\n",
        "    if choice == '1':\n",
        "        print(num1 + num2)\n",
        "    elif choice == '2':\n",
        "        print(num1 - num2)\n",
        "    elif choice == '3':\n",
        "        print(num1 * num2)\n",
        "    elif choice == '4':\n",
        "        print(num1 / num2)\n",
        "    else:\n",
        "        print(\"Invalid Input!\")\n",
        "\n",
        "calculator(4, 5)"
      ],
      "execution_count": 2,
      "outputs": [
        {
          "output_type": "stream",
          "name": "stdout",
          "text": [
            "Select operation.\n",
            "1.Add\n",
            "2.Subtract\n",
            "3.Multiply\n",
            "4.Divide\n",
            "Enter choice(1/2/3/4): 3\n",
            "20\n"
          ]
        }
      ]
    },
    {
      "cell_type": "markdown",
      "metadata": {
        "id": "gdRuWpBDGghH"
      },
      "source": [
        "---"
      ]
    }
  ]
}