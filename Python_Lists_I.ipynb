{
  "nbformat": 4,
  "nbformat_minor": 0,
  "metadata": {
    "colab": {
      "provenance": [],
      "collapsed_sections": [],
      "include_colab_link": true
    },
    "kernelspec": {
      "name": "python3",
      "display_name": "Python 3"
    }
  },
  "cells": [
    {
      "cell_type": "markdown",
      "metadata": {
        "id": "view-in-github",
        "colab_type": "text"
      },
      "source": [
        "<a href=\"https://colab.research.google.com/github/Coder-twhjr/Mind-Reader-Game/blob/main/Python_Lists_I.ipynb\" target=\"_parent\"><img src=\"https://colab.research.google.com/assets/colab-badge.svg\" alt=\"Open In Colab\"/></a>"
      ]
    },
    {
      "cell_type": "markdown",
      "metadata": {
        "id": "ywVdfNdkVjZo"
      },
      "source": [
        "#Python Lists I"
      ]
    },
    {
      "cell_type": "code",
      "metadata": {
        "colab": {
          "base_uri": "https://localhost:8080/"
        },
        "id": "ne1JkZ_UxuTC",
        "outputId": "3fe10186-bcf8-4455-e080-9b6fe5e7e5fe"
      },
      "source": [
        "fifa_wc_winners = ['Italy', 'Argentina', 'Germany', 'Brazil', 'France', 'Brazil', 'Italy', 'Spain', 'Germany', 'France']\n",
        "fifa_wc_winners"
      ],
      "execution_count": 1,
      "outputs": [
        {
          "output_type": "execute_result",
          "data": {
            "text/plain": [
              "['Italy',\n",
              " 'Argentina',\n",
              " 'Germany',\n",
              " 'Brazil',\n",
              " 'France',\n",
              " 'Brazil',\n",
              " 'Italy',\n",
              " 'Spain',\n",
              " 'Germany',\n",
              " 'France']"
            ]
          },
          "metadata": {},
          "execution_count": 1
        }
      ]
    },
    {
      "cell_type": "markdown",
      "metadata": {
        "id": "A9DUkIzL8p6S"
      },
      "source": [
        "---"
      ]
    },
    {
      "cell_type": "markdown",
      "metadata": {
        "id": "kCImGio9-h9U"
      },
      "source": [
        "### Features of Python List"
      ]
    },
    {
      "cell_type": "markdown",
      "metadata": {
        "id": "lIrcRcod-i1O"
      },
      "source": [
        "---"
      ]
    },
    {
      "cell_type": "markdown",
      "metadata": {
        "id": "ulZE26jaMU3P"
      },
      "source": [
        "####The `count()` Function"
      ]
    },
    {
      "cell_type": "code",
      "metadata": {
        "id": "0HLcxrAxPBwa",
        "colab": {
          "base_uri": "https://localhost:8080/"
        },
        "outputId": "f8fd9baa-b85d-4891-a4f0-135c606058a0"
      },
      "source": [
        "fifa_wc_winners.count('France')"
      ],
      "execution_count": 2,
      "outputs": [
        {
          "output_type": "execute_result",
          "data": {
            "text/plain": [
              "2"
            ]
          },
          "metadata": {},
          "execution_count": 2
        }
      ]
    },
    {
      "cell_type": "code",
      "metadata": {
        "id": "_dHF77d8PWDU",
        "colab": {
          "base_uri": "https://localhost:8080/"
        },
        "outputId": "7b42bb20-8b9c-4167-90ef-a91b8ea52d93"
      },
      "source": [
        "fifa_wc_winners.count('Brazil')"
      ],
      "execution_count": 3,
      "outputs": [
        {
          "output_type": "execute_result",
          "data": {
            "text/plain": [
              "2"
            ]
          },
          "metadata": {},
          "execution_count": 3
        }
      ]
    },
    {
      "cell_type": "markdown",
      "metadata": {
        "id": "im74znVg_zWA"
      },
      "source": [
        "---"
      ]
    },
    {
      "cell_type": "markdown",
      "metadata": {
        "id": "xCBbVdNS4EC-"
      },
      "source": [
        "####An Empty List\n"
      ]
    },
    {
      "cell_type": "code",
      "metadata": {
        "id": "WS1e7xBHAN4S",
        "colab": {
          "base_uri": "https://localhost:8080/"
        },
        "outputId": "a02bb9d0-b51a-4e8d-b793-5c2fa99780df"
      },
      "source": [
        "player_inputs_list = []\n",
        "player_inputs_list"
      ],
      "execution_count": 4,
      "outputs": [
        {
          "output_type": "execute_result",
          "data": {
            "text/plain": [
              "[]"
            ]
          },
          "metadata": {},
          "execution_count": 4
        }
      ]
    },
    {
      "cell_type": "markdown",
      "metadata": {
        "id": "OHP5X39HA47W"
      },
      "source": [
        "---"
      ]
    },
    {
      "cell_type": "markdown",
      "metadata": {
        "id": "hhSZVe9aA5j2"
      },
      "source": [
        "####The `append()` Function"
      ]
    },
    {
      "cell_type": "code",
      "metadata": {
        "id": "2XfXqu4OB--r",
        "colab": {
          "base_uri": "https://localhost:8080/"
        },
        "outputId": "93348564-e3f7-41f7-c705-3493b23ad926"
      },
      "source": [
        "player_inputs_list = []\n",
        "\n",
        "player_inputs_list.append(0)\n",
        "print(\"After adding the 1st item:\", player_inputs_list)\n",
        "\n",
        "player_inputs_list.append(0)\n",
        "print(\"After adding the 2nd item:\", player_inputs_list)\n",
        "\n",
        "player_inputs_list.append(1)\n",
        "print(\"After adding the 3rd item:\", player_inputs_list)\n",
        "\n",
        "player_inputs_list.append(0)\n",
        "print(\"After adding the 4th item:\", player_inputs_list)\n",
        "\n",
        "player_inputs_list.append(1)\n",
        "print(\"After adding the 5th item:\", player_inputs_list)"
      ],
      "execution_count": 5,
      "outputs": [
        {
          "output_type": "stream",
          "name": "stdout",
          "text": [
            "After adding the 1st item: [0]\n",
            "After adding the 2nd item: [0, 0]\n",
            "After adding the 3rd item: [0, 0, 1]\n",
            "After adding the 4th item: [0, 0, 1, 0]\n",
            "After adding the 5th item: [0, 0, 1, 0, 1]\n"
          ]
        }
      ]
    },
    {
      "cell_type": "code",
      "metadata": {
        "id": "x__YLMdTK3Wy",
        "colab": {
          "base_uri": "https://localhost:8080/"
        },
        "outputId": "c1d65f26-a5fc-4471-83ae-5fc87cd86a90"
      },
      "source": [
        "print(player_inputs_list.count(0))\n",
        "print(player_inputs_list.count(1))"
      ],
      "execution_count": 6,
      "outputs": [
        {
          "output_type": "stream",
          "name": "stdout",
          "text": [
            "3\n",
            "2\n"
          ]
        }
      ]
    },
    {
      "cell_type": "markdown",
      "metadata": {
        "id": "GkQYzaCI4DGs"
      },
      "source": [
        "---"
      ]
    },
    {
      "cell_type": "markdown",
      "metadata": {
        "id": "0LuQTtRnSAWj"
      },
      "source": [
        "####The Revised `prediction()` Function"
      ]
    },
    {
      "cell_type": "code",
      "metadata": {
        "id": "HkzbxzQlJZDf"
      },
      "source": [
        "import random\n",
        "\n",
        "def prediction():\n",
        "  count_zero = player_inputs_list.count(0)\n",
        "  count_one = player_inputs_list.count(1)\n",
        "\n",
        "  if count_zero > count_one:\n",
        "    predict = 0\n",
        "  elif count_one > count_zero:\n",
        "    predict = 1\n",
        "  else:\n",
        "    predict = random.randint(0, 1)\n",
        "  \n",
        "  return predict"
      ],
      "execution_count": 7,
      "outputs": []
    },
    {
      "cell_type": "markdown",
      "metadata": {
        "id": "FGSjeSTEVq-1"
      },
      "source": [
        "---"
      ]
    },
    {
      "cell_type": "markdown",
      "metadata": {
        "id": "_9jUqOBlMAQC"
      },
      "source": [
        "#### Count Based Mind Reader Game Algorithm Using Python Lists"
      ]
    },
    {
      "cell_type": "code",
      "metadata": {
        "id": "dhWD_3x011uH",
        "colab": {
          "base_uri": "https://localhost:8080/"
        },
        "outputId": "54a6f15a-be96-422a-e449-1ee4f6594ea8"
      },
      "source": [
        "import random \n",
        "\n",
        "player_inputs_list = []\n",
        "\n",
        "player_score = 0\n",
        "computer_score = 0\n",
        "\n",
        "def prediction():\n",
        "  count_zero = player_inputs_list.count(0)\n",
        "  count_one = player_inputs_list.count(1)\n",
        "\n",
        "  if count_zero > count_one:\n",
        "    predict = 0\n",
        "  elif count_one > count_zero:\n",
        "    predict = 1\n",
        "  else:\n",
        "    predict = random.randint(0, 1)\n",
        "  return predict\n",
        "\n",
        "def update_scores(predicted, player_input):\n",
        "  global player_score, computer_score\n",
        "  if predicted == player_input:\n",
        "    computer_score = computer_score + 1\n",
        "    print(\"Computer Score:\", computer_score)\n",
        "    print(\"Player Score:\", player_score)\n",
        "  else:\n",
        "    player_score = player_score + 1\n",
        "    print(\"Computer Score:\", computer_score)\n",
        "    print(\"Player Score:\", player_score)\n",
        "\n",
        "def gameplay():\n",
        "  valid_entries = ['0', '1']\n",
        "  while True:\n",
        "    predicted = prediction()\n",
        "    player_input = input(\"Enter either 0 or 1: \")\n",
        "    while player_input not in valid_entries:\n",
        "      print(\"Invalid Input!\")\n",
        "      player_input = input(\"Please enter either 0 or 1: \")\n",
        "    \n",
        "    player_input = int(player_input)\n",
        "\n",
        "    player_inputs_list.append(player_input)\n",
        "\n",
        "    update_scores(predicted, player_input)\n",
        "\n",
        "    if player_score == 10:\n",
        "      print(\"Congrats, You Won!\")\n",
        "      break\n",
        "    elif computer_score == 10:\n",
        "      print(\"Bad Luck, You Lost!\")\n",
        "      break\n",
        "\n",
        "gameplay()"
      ],
      "execution_count": 8,
      "outputs": [
        {
          "output_type": "stream",
          "name": "stdout",
          "text": [
            "Enter either 0 or 1: 1\n",
            "Computer Score: 0\n",
            "Player Score: 1\n",
            "Enter either 0 or 1: 1\n",
            "Computer Score: 1\n",
            "Player Score: 1\n",
            "Enter either 0 or 1: 1\n",
            "Computer Score: 2\n",
            "Player Score: 1\n",
            "Enter either 0 or 1: 1\n",
            "Computer Score: 3\n",
            "Player Score: 1\n",
            "Enter either 0 or 1: 0\n",
            "Computer Score: 3\n",
            "Player Score: 2\n",
            "Enter either 0 or 1: 0\n",
            "Computer Score: 3\n",
            "Player Score: 3\n",
            "Enter either 0 or 1: 1\n",
            "Computer Score: 4\n",
            "Player Score: 3\n",
            "Enter either 0 or 1: 0\n",
            "Computer Score: 4\n",
            "Player Score: 4\n",
            "Enter either 0 or 1: 0\n",
            "Computer Score: 4\n",
            "Player Score: 5\n",
            "Enter either 0 or 1: 1\n",
            "Computer Score: 5\n",
            "Player Score: 5\n",
            "Enter either 0 or 1: 0\n",
            "Computer Score: 5\n",
            "Player Score: 6\n",
            "Enter either 0 or 1: 2\n",
            "Invalid Input!\n",
            "Please enter either 0 or 1: 1\n",
            "Computer Score: 6\n",
            "Player Score: 6\n",
            "Enter either 0 or 1: 0\n",
            "Computer Score: 6\n",
            "Player Score: 7\n",
            "Enter either 0 or 1: 1\n",
            "Computer Score: 7\n",
            "Player Score: 7\n",
            "Enter either 0 or 1: 1\n",
            "Computer Score: 8\n",
            "Player Score: 7\n",
            "Enter either 0 or 1: 0\n",
            "Computer Score: 8\n",
            "Player Score: 8\n",
            "Enter either 0 or 1: 1\n",
            "Computer Score: 9\n",
            "Player Score: 8\n",
            "Enter either 0 or 1: 0\n",
            "Computer Score: 9\n",
            "Player Score: 9\n",
            "Enter either 0 or 1: 1\n",
            "Computer Score: 10\n",
            "Player Score: 9\n",
            "Bad Luck, You Lost!\n"
          ]
        }
      ]
    },
    {
      "cell_type": "code",
      "metadata": {
        "id": "fTclQOhWSYMs",
        "colab": {
          "base_uri": "https://localhost:8080/"
        },
        "outputId": "3c5635ef-78b1-42ac-b55a-b51f97ef0056"
      },
      "source": [
        "player_inputs_list"
      ],
      "execution_count": 9,
      "outputs": [
        {
          "output_type": "execute_result",
          "data": {
            "text/plain": [
              "[1, 1, 1, 1, 0, 0, 1, 0, 0, 1, 0, 1, 0, 1, 1, 0, 1, 0, 1]"
            ]
          },
          "metadata": {},
          "execution_count": 9
        }
      ]
    },
    {
      "cell_type": "markdown",
      "metadata": {
        "id": "mH4-6NfgSxyW"
      },
      "source": [
        "---"
      ]
    },
    {
      "cell_type": "markdown",
      "metadata": {
        "id": "pNp2_CqKpl5b"
      },
      "source": [
        "####Divisibility Test For $3$"
      ]
    },
    {
      "cell_type": "code",
      "metadata": {
        "id": "CgcEY6QGqFtk",
        "colab": {
          "base_uri": "https://localhost:8080/"
        },
        "outputId": "9cfc7387-b3af-4160-f1a8-ea0c9a6383ab"
      },
      "source": [
        "def is_divisible_by_three(num):\n",
        "  if num < 0:\n",
        "    num = -num\n",
        "  if num == 0:\n",
        "    return True\n",
        "  else:\n",
        "    total = 0\n",
        "    while True:\n",
        "      total = total + num % 10\n",
        "      if num // 10 == 0:\n",
        "        break\n",
        "      num = num // 10\n",
        "\n",
        "    if total % 3 == 0:\n",
        "      return True\n",
        "    else:\n",
        "      return False\n",
        "\n",
        "print(is_divisible_by_three(-4236))\n",
        "is_divisible_by_three(0)"
      ],
      "execution_count": 10,
      "outputs": [
        {
          "output_type": "stream",
          "name": "stdout",
          "text": [
            "True\n"
          ]
        },
        {
          "output_type": "execute_result",
          "data": {
            "text/plain": [
              "True"
            ]
          },
          "metadata": {},
          "execution_count": 10
        }
      ]
    },
    {
      "cell_type": "markdown",
      "metadata": {
        "id": "IB2XvdadrCN1"
      },
      "source": [
        "---"
      ]
    },
    {
      "cell_type": "markdown",
      "metadata": {
        "id": "NZk-bl46rC3W"
      },
      "source": [
        "####Palindromic Triangle"
      ]
    },
    {
      "cell_type": "code",
      "metadata": {
        "id": "u9qJkwMPsjAD",
        "colab": {
          "base_uri": "https://localhost:8080/"
        },
        "outputId": "c300b93d-0037-4b9e-b5aa-9bb4f0e84932"
      },
      "source": [
        "for i in range(1, int(input()) + 1):\n",
        "  print((10 ** i // 9) ** 2)"
      ],
      "execution_count": 11,
      "outputs": [
        {
          "output_type": "stream",
          "name": "stdout",
          "text": [
            "5\n",
            "1\n",
            "121\n",
            "12321\n",
            "1234321\n",
            "123454321\n"
          ]
        }
      ]
    },
    {
      "cell_type": "markdown",
      "metadata": {
        "id": "bV6ZL7nipk8X"
      },
      "source": [
        "---"
      ]
    }
  ]
}