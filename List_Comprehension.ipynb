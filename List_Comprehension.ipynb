{
  "nbformat": 4,
  "nbformat_minor": 0,
  "metadata": {
    "colab": {
      "provenance": [],
      "collapsed_sections": [],
      "include_colab_link": true
    },
    "kernelspec": {
      "name": "python3",
      "display_name": "Python 3"
    }
  },
  "cells": [
    {
      "cell_type": "markdown",
      "metadata": {
        "id": "view-in-github",
        "colab_type": "text"
      },
      "source": [
        "<a href=\"https://colab.research.google.com/github/Coder-twhjr/Mind-Reader-Game/blob/main/List_Comprehension.ipynb\" target=\"_parent\"><img src=\"https://colab.research.google.com/assets/colab-badge.svg\" alt=\"Open In Colab\"/></a>"
      ]
    },
    {
      "cell_type": "markdown",
      "metadata": {
        "id": "7LlG_PPFjJUz"
      },
      "source": [
        "#List Comprehension"
      ]
    },
    {
      "cell_type": "markdown",
      "metadata": {
        "id": "iB_x7vQlMYPn"
      },
      "source": [
        "####The `for` Loop Revision"
      ]
    },
    {
      "cell_type": "code",
      "metadata": {
        "id": "O31F6mKyMD5r",
        "colab": {
          "base_uri": "https://localhost:8080/"
        },
        "outputId": "1fcc418e-cf77-4a9d-d1b5-438514ed93c6"
      },
      "source": [
        "natural_numbers = []\n",
        "\n",
        "for i in range(1, 11):\n",
        "  natural_numbers.append(i)\n",
        "\n",
        "natural_numbers"
      ],
      "execution_count": 1,
      "outputs": [
        {
          "output_type": "execute_result",
          "data": {
            "text/plain": [
              "[1, 2, 3, 4, 5, 6, 7, 8, 9, 10]"
            ]
          },
          "metadata": {},
          "execution_count": 1
        }
      ]
    },
    {
      "cell_type": "markdown",
      "metadata": {
        "id": "yh-u_h-TcctF"
      },
      "source": [
        "---"
      ]
    },
    {
      "cell_type": "markdown",
      "metadata": {
        "id": "2VAiBKaccdck"
      },
      "source": [
        "####The List Comprehension Method"
      ]
    },
    {
      "cell_type": "code",
      "metadata": {
        "id": "bh2f-IviRqNg",
        "colab": {
          "base_uri": "https://localhost:8080/"
        },
        "outputId": "751f8546-03e5-49d7-f268-8dbe08b3f37e"
      },
      "source": [
        "natural_numbers = [i for i in range(1, 11)]\n",
        "natural_numbers"
      ],
      "execution_count": 2,
      "outputs": [
        {
          "output_type": "execute_result",
          "data": {
            "text/plain": [
              "[1, 2, 3, 4, 5, 6, 7, 8, 9, 10]"
            ]
          },
          "metadata": {},
          "execution_count": 2
        }
      ]
    },
    {
      "cell_type": "code",
      "metadata": {
        "id": "dfD7pfmJRprJ",
        "colab": {
          "base_uri": "https://localhost:8080/"
        },
        "outputId": "01395f61-1f60-4246-c516-dc3b186f6daf"
      },
      "source": [
        "square_nat_nums = [i ** 2 for i in range(1, 11)]\n",
        "square_nat_nums"
      ],
      "execution_count": 3,
      "outputs": [
        {
          "output_type": "execute_result",
          "data": {
            "text/plain": [
              "[1, 4, 9, 16, 25, 36, 49, 64, 81, 100]"
            ]
          },
          "metadata": {},
          "execution_count": 3
        }
      ]
    },
    {
      "cell_type": "markdown",
      "metadata": {
        "id": "uI4RfOJ8Ril3"
      },
      "source": [
        "**Using conditional statement in list comprehension:**"
      ]
    },
    {
      "cell_type": "code",
      "metadata": {
        "id": "QfRKcNyVSJiE",
        "colab": {
          "base_uri": "https://localhost:8080/"
        },
        "outputId": "a687e467-c693-4313-9e72-1f887fad2136"
      },
      "source": [
        "even_nums_list = []\n",
        "\n",
        "for i in range(1, 21):\n",
        "  if i % 2 == 0:\n",
        "    even_nums_list.append(i)\n",
        "\n",
        "even_nums_list"
      ],
      "execution_count": 4,
      "outputs": [
        {
          "output_type": "execute_result",
          "data": {
            "text/plain": [
              "[2, 4, 6, 8, 10, 12, 14, 16, 18, 20]"
            ]
          },
          "metadata": {},
          "execution_count": 4
        }
      ]
    },
    {
      "cell_type": "code",
      "metadata": {
        "id": "3HOJvfkRm1Lu",
        "colab": {
          "base_uri": "https://localhost:8080/"
        },
        "outputId": "b6068acc-88b7-432d-d9bd-c3bc90bebc26"
      },
      "source": [
        "even_nums_list = [i for i in range(1, 21) if i % 2 == 0]\n",
        "even_nums_list"
      ],
      "execution_count": 5,
      "outputs": [
        {
          "output_type": "execute_result",
          "data": {
            "text/plain": [
              "[2, 4, 6, 8, 10, 12, 14, 16, 18, 20]"
            ]
          },
          "metadata": {},
          "execution_count": 5
        }
      ]
    },
    {
      "cell_type": "markdown",
      "metadata": {
        "id": "uK-ZKo0sRpYD"
      },
      "source": [
        "---"
      ]
    },
    {
      "cell_type": "markdown",
      "metadata": {
        "id": "4Aznk3J-OLla"
      },
      "source": [
        "####Nested Lists Using List Comprehension\n"
      ]
    },
    {
      "cell_type": "code",
      "metadata": {
        "id": "IHDuSSVOV2g_",
        "colab": {
          "base_uri": "https://localhost:8080/"
        },
        "outputId": "bc964bd8-75ed-4b9c-f681-730c227f5569"
      },
      "source": [
        "planets = ['Mercury', 'Venus', 'Earth', 'Mars', 'Jupiter', 'Saturn', 'Uranus', 'Neptune', 'Pluto']\n",
        "diameters = [4879, 12104, 12756, 6972, 142984, 120536, 51118, 49528, 2370]\n",
        "\n",
        "n = len(planets) \n",
        "planet_diameters = [[planets[i], diameters[i]] for i in range(n)]\n",
        "planet_diameters"
      ],
      "execution_count": 6,
      "outputs": [
        {
          "output_type": "execute_result",
          "data": {
            "text/plain": [
              "[['Mercury', 4879],\n",
              " ['Venus', 12104],\n",
              " ['Earth', 12756],\n",
              " ['Mars', 6972],\n",
              " ['Jupiter', 142984],\n",
              " ['Saturn', 120536],\n",
              " ['Uranus', 51118],\n",
              " ['Neptune', 49528],\n",
              " ['Pluto', 2370]]"
            ]
          },
          "metadata": {},
          "execution_count": 6
        }
      ]
    },
    {
      "cell_type": "code",
      "metadata": {
        "id": "riGznqyWXpL2",
        "colab": {
          "base_uri": "https://localhost:8080/"
        },
        "outputId": "4bbf289f-7b88-42ff-ff39-8e76b41cae66"
      },
      "source": [
        "planets = ['Mercury', 'Venus', 'Earth', 'Mars', 'Jupiter', 'Saturn', 'Uranus', 'Neptune', 'Pluto']\n",
        "diameters = [4879, 12104, 12756, 6972, 142984, 120536, 51118, 49528, 2370]\n",
        "densities = [5427, 5243, 5514, 3933, 1326, 687, 1271, 1638, 2095]\n",
        "gravities = [3.7, 8.9, 9.8, 3.7, 23.1, 9.0, 8.7, 11.0, 0.7]\n",
        "\n",
        "n = len(planets)\n",
        "\n",
        "planet_data = [[planets[i], diameters[i], densities[i], gravities[i]] for i in range(n)]\n",
        "planet_data "
      ],
      "execution_count": 8,
      "outputs": [
        {
          "output_type": "execute_result",
          "data": {
            "text/plain": [
              "[['Mercury', 4879, 5427, 3.7],\n",
              " ['Venus', 12104, 5243, 8.9],\n",
              " ['Earth', 12756, 5514, 9.8],\n",
              " ['Mars', 6972, 3933, 3.7],\n",
              " ['Jupiter', 142984, 1326, 23.1],\n",
              " ['Saturn', 120536, 687, 9.0],\n",
              " ['Uranus', 51118, 1271, 8.7],\n",
              " ['Neptune', 49528, 1638, 11.0],\n",
              " ['Pluto', 2370, 2095, 0.7]]"
            ]
          },
          "metadata": {},
          "execution_count": 8
        }
      ]
    },
    {
      "cell_type": "code",
      "metadata": {
        "id": "M0MXgg-pOKZx",
        "colab": {
          "base_uri": "https://localhost:8080/"
        },
        "outputId": "51904f6e-c73c-4b8b-888b-8d6ce9a65c2c"
      },
      "source": [
        "zeros = [[0 for i in range(3)] for i in range(4)]\n",
        "zeros"
      ],
      "execution_count": 9,
      "outputs": [
        {
          "output_type": "execute_result",
          "data": {
            "text/plain": [
              "[[0, 0, 0], [0, 0, 0], [0, 0, 0], [0, 0, 0]]"
            ]
          },
          "metadata": {},
          "execution_count": 9
        }
      ]
    },
    {
      "cell_type": "code",
      "metadata": {
        "colab": {
          "base_uri": "https://localhost:8080/"
        },
        "id": "X_EvtbpHfcT4",
        "outputId": "9d76bd05-1034-481d-9bf5-a74e9dd7ca8e"
      },
      "source": [
        "ones = [[[1 for i in range(2)] for j in range(4)] for k in range(3)]\n",
        "ones"
      ],
      "execution_count": 10,
      "outputs": [
        {
          "output_type": "execute_result",
          "data": {
            "text/plain": [
              "[[[1, 1], [1, 1], [1, 1], [1, 1]],\n",
              " [[1, 1], [1, 1], [1, 1], [1, 1]],\n",
              " [[1, 1], [1, 1], [1, 1], [1, 1]]]"
            ]
          },
          "metadata": {},
          "execution_count": 10
        }
      ]
    },
    {
      "cell_type": "code",
      "metadata": {
        "id": "0kr8AD98pcyW",
        "colab": {
          "base_uri": "https://localhost:8080/"
        },
        "outputId": "bc3057aa-598e-4580-ee20-11c6bb6917e9"
      },
      "source": [
        "two_dim = [[(10 * i + j) for j in range(1, 3)] for i in range(1, 3)]\n",
        "two_dim"
      ],
      "execution_count": 11,
      "outputs": [
        {
          "output_type": "execute_result",
          "data": {
            "text/plain": [
              "[[11, 12], [21, 22]]"
            ]
          },
          "metadata": {},
          "execution_count": 11
        }
      ]
    },
    {
      "cell_type": "markdown",
      "metadata": {
        "id": "i2NCoNAlKLJD"
      },
      "source": [
        "---"
      ]
    },
    {
      "cell_type": "markdown",
      "metadata": {
        "id": "JBOrAjrTqza7"
      },
      "source": [
        "### Creating Three Dimensional List"
      ]
    },
    {
      "cell_type": "code",
      "metadata": {
        "colab": {
          "base_uri": "https://localhost:8080/"
        },
        "id": "X_pLWyBerxpa",
        "outputId": "7a5dc892-845c-4f9c-d09f-aea30e3cfae4"
      },
      "source": [
        "three_dim = [[[(100 * i + 10 * j + k) for k in range(1, 4)] for j in range(1, 4)] for i in range(1, 4)]\n",
        "three_dim"
      ],
      "execution_count": 12,
      "outputs": [
        {
          "output_type": "execute_result",
          "data": {
            "text/plain": [
              "[[[111, 112, 113], [121, 122, 123], [131, 132, 133]],\n",
              " [[211, 212, 213], [221, 222, 223], [231, 232, 233]],\n",
              " [[311, 312, 313], [321, 322, 323], [331, 332, 333]]]"
            ]
          },
          "metadata": {},
          "execution_count": 12
        }
      ]
    },
    {
      "cell_type": "markdown",
      "metadata": {
        "id": "saGguCQatNjK"
      },
      "source": [
        "---"
      ]
    },
    {
      "cell_type": "code",
      "metadata": {
        "colab": {
          "base_uri": "https://localhost:8080/"
        },
        "id": "Wh7PuqXssim6",
        "outputId": "5d05333f-8149-4841-967a-68c1d86b078e"
      },
      "source": [
        "three_dim_list = [[[], [], []], [[], [], []], [[], [], []]]\n",
        "\n",
        "for i in range(1, 4):\n",
        "  for j in range(1, 4):\n",
        "    for k in range(1, 4):\n",
        "      item = 100 * i + 10 * j + k\n",
        "      three_dim_list[i - 1][j - 1].append(item)\n",
        "\n",
        "three_dim_list"
      ],
      "execution_count": 13,
      "outputs": [
        {
          "output_type": "execute_result",
          "data": {
            "text/plain": [
              "[[[111, 112, 113], [121, 122, 123], [131, 132, 133]],\n",
              " [[211, 212, 213], [221, 222, 223], [231, 232, 233]],\n",
              " [[311, 312, 313], [321, 322, 323], [331, 332, 333]]]"
            ]
          },
          "metadata": {},
          "execution_count": 13
        }
      ]
    },
    {
      "cell_type": "markdown",
      "metadata": {
        "id": "wt9kiTgvA2xs"
      },
      "source": [
        "---"
      ]
    }
  ]
}