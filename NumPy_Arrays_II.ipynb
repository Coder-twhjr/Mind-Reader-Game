{
  "nbformat": 4,
  "nbformat_minor": 0,
  "metadata": {
    "colab": {
      "provenance": [],
      "collapsed_sections": [],
      "include_colab_link": true
    },
    "kernelspec": {
      "name": "python3",
      "display_name": "Python 3"
    }
  },
  "cells": [
    {
      "cell_type": "markdown",
      "metadata": {
        "id": "view-in-github",
        "colab_type": "text"
      },
      "source": [
        "<a href=\"https://colab.research.google.com/github/Coder-twhjr/Mind-Reader-Game/blob/main/NumPy_Arrays_II.ipynb\" target=\"_parent\"><img src=\"https://colab.research.google.com/assets/colab-badge.svg\" alt=\"Open In Colab\"/></a>"
      ]
    },
    {
      "cell_type": "markdown",
      "metadata": {
        "id": "7LlG_PPFjJUz"
      },
      "source": [
        "#NumPy Arrays II\n"
      ]
    },
    {
      "cell_type": "markdown",
      "metadata": {
        "id": "8C6arOgwIdZR"
      },
      "source": [
        "####Array Length\n",
        "\n"
      ]
    },
    {
      "cell_type": "code",
      "metadata": {
        "id": "vlgvfn4lhd2L",
        "colab": {
          "base_uri": "https://localhost:8080/"
        },
        "outputId": "9b969d15-4a79-416b-8dfa-b57806dfaa1e"
      },
      "source": [
        "import numpy as np\n",
        "\n",
        "one_dim_ar = np.arange(1, 25)\n",
        "two_dim_ar = np.arange(1, 29).reshape(4, 7)\n",
        "three_dim_ar = np.arange(1, 31).reshape(2, 5, 3)\n",
        "print(\"Number of items in one_dim_ar:\", len(one_dim_ar))\n",
        "print(\"Number of rows in two_dim_ar:\", len(two_dim_ar))\n",
        "print(\"Number of blocks in three_dim_ar:\", len(three_dim_ar))"
      ],
      "execution_count": 1,
      "outputs": [
        {
          "output_type": "stream",
          "name": "stdout",
          "text": [
            "Number of items in one_dim_ar: 24\n",
            "Number of rows in two_dim_ar: 4\n",
            "Number of blocks in three_dim_ar: 2\n"
          ]
        }
      ]
    },
    {
      "cell_type": "markdown",
      "metadata": {
        "id": "YzE3GMSkW-Nx"
      },
      "source": [
        "---"
      ]
    },
    {
      "cell_type": "markdown",
      "metadata": {
        "id": "rCnmusCAc6gI"
      },
      "source": [
        "#### The `size` Keyword"
      ]
    },
    {
      "cell_type": "code",
      "metadata": {
        "id": "AXL0BiNXc7iK",
        "colab": {
          "base_uri": "https://localhost:8080/"
        },
        "outputId": "42436b1f-7dc0-4f9d-dcdd-216dcac691db"
      },
      "source": [
        "print(\"Number of items in one_dim_ar:\", one_dim_ar.size)\n",
        "print(\"Number of items in two_dim_ar:\", two_dim_ar.size)\n",
        "print(\"Number of items in three_dim_ar:\", three_dim_ar.size)"
      ],
      "execution_count": 2,
      "outputs": [
        {
          "output_type": "stream",
          "name": "stdout",
          "text": [
            "Number of items in one_dim_ar: 24\n",
            "Number of items in two_dim_ar: 28\n",
            "Number of items in three_dim_ar: 30\n"
          ]
        }
      ]
    },
    {
      "cell_type": "markdown",
      "metadata": {
        "id": "EDbcN7r-Z83a"
      },
      "source": [
        "---"
      ]
    },
    {
      "cell_type": "markdown",
      "metadata": {
        "id": "qkZj_ZVTiHz9"
      },
      "source": [
        "####Descriptive Statistics"
      ]
    },
    {
      "cell_type": "code",
      "metadata": {
        "id": "t8FrljUgoUTQ"
      },
      "source": [
        "prices = np.array([13999, 6298, 10999, 14999, 7298, 6385, 8999, 9999, 9999, 13868])\n",
        "units_available = np.array([9, 8, 9, 9, 8, 8, 9, 6, 5, 7])"
      ],
      "execution_count": 3,
      "outputs": []
    },
    {
      "cell_type": "code",
      "metadata": {
        "id": "Wwjrkh75pDQZ",
        "colab": {
          "base_uri": "https://localhost:8080/"
        },
        "outputId": "c914ed7f-8a4c-4292-922d-4bd5834b16ed"
      },
      "source": [
        "total_price_for_each_smartphone = prices * units_available\n",
        "print(total_price_for_each_smartphone)\n",
        "\n",
        "total_monetary_value = np.sum(total_price_for_each_smartphone)\n",
        "total_monetary_value"
      ],
      "execution_count": 4,
      "outputs": [
        {
          "output_type": "stream",
          "name": "stdout",
          "text": [
            "[125991  50384  98991 134991  58384  51080  80991  59994  49995  97076]\n"
          ]
        },
        {
          "output_type": "execute_result",
          "data": {
            "text/plain": [
              "807877"
            ]
          },
          "metadata": {},
          "execution_count": 4
        }
      ]
    },
    {
      "cell_type": "code",
      "metadata": {
        "id": "HOVg5kWlsLyO",
        "colab": {
          "base_uri": "https://localhost:8080/"
        },
        "outputId": "da1987e1-8636-4dcf-bc61-3adc0f41fe60"
      },
      "source": [
        "avg_price = np.mean(prices)\n",
        "avg_price"
      ],
      "execution_count": 5,
      "outputs": [
        {
          "output_type": "execute_result",
          "data": {
            "text/plain": [
              "10284.3"
            ]
          },
          "metadata": {},
          "execution_count": 5
        }
      ]
    },
    {
      "cell_type": "code",
      "metadata": {
        "id": "5Owx2KmysuPk",
        "colab": {
          "base_uri": "https://localhost:8080/"
        },
        "outputId": "58b92d93-0cec-47ae-d2b0-4bd64ec161c8"
      },
      "source": [
        "lowest_price = np.min(prices)\n",
        "lowest_price"
      ],
      "execution_count": 6,
      "outputs": [
        {
          "output_type": "execute_result",
          "data": {
            "text/plain": [
              "6298"
            ]
          },
          "metadata": {},
          "execution_count": 6
        }
      ]
    },
    {
      "cell_type": "code",
      "metadata": {
        "id": "XK4SfK97tCSa",
        "colab": {
          "base_uri": "https://localhost:8080/"
        },
        "outputId": "ed219ad4-1687-4df9-9592-662c5b2d460e"
      },
      "source": [
        "highest_price = np.max(prices)\n",
        "highest_price"
      ],
      "execution_count": 7,
      "outputs": [
        {
          "output_type": "execute_result",
          "data": {
            "text/plain": [
              "14999"
            ]
          },
          "metadata": {},
          "execution_count": 7
        }
      ]
    },
    {
      "cell_type": "code",
      "metadata": {
        "id": "q-7oX4kOtSSe",
        "colab": {
          "base_uri": "https://localhost:8080/"
        },
        "outputId": "15f66bf7-2718-4fa6-d227-626ebc4e202d"
      },
      "source": [
        "median_price = np.median(prices)\n",
        "median_price"
      ],
      "execution_count": 8,
      "outputs": [
        {
          "output_type": "execute_result",
          "data": {
            "text/plain": [
              "9999.0"
            ]
          },
          "metadata": {},
          "execution_count": 8
        }
      ]
    },
    {
      "cell_type": "code",
      "metadata": {
        "id": "YwAgYtduxJXq",
        "colab": {
          "base_uri": "https://localhost:8080/"
        },
        "outputId": "e882cacd-3780-4440-c640-d80df074546a"
      },
      "source": [
        "from scipy import stats\n",
        "stats.mode(prices)"
      ],
      "execution_count": 9,
      "outputs": [
        {
          "output_type": "execute_result",
          "data": {
            "text/plain": [
              "ModeResult(mode=array([9999]), count=array([2]))"
            ]
          },
          "metadata": {},
          "execution_count": 9
        }
      ]
    },
    {
      "cell_type": "markdown",
      "metadata": {
        "id": "2doxkX1qyC9S"
      },
      "source": [
        "---"
      ]
    },
    {
      "cell_type": "markdown",
      "metadata": {
        "id": "wtaOw65FDEGk"
      },
      "source": [
        "####Few More Operations On A NumPy Array"
      ]
    },
    {
      "cell_type": "code",
      "metadata": {
        "id": "vxc4TQw2DyBP",
        "colab": {
          "base_uri": "https://localhost:8080/"
        },
        "outputId": "f5c0b732-50b3-4082-95d3-042efec20dce"
      },
      "source": [
        "import random\n",
        "import numpy as np\n",
        "\n",
        "radii = [random.randint(1, 10) for i in range(20)]\n",
        "print(radii)\n",
        "\n",
        "np_radii = np.array(radii)\n",
        "print(np_radii)\n",
        "\n",
        "np_area_circles = np.pi * (np_radii ** 2)\n",
        "np_area_circles"
      ],
      "execution_count": 10,
      "outputs": [
        {
          "output_type": "stream",
          "name": "stdout",
          "text": [
            "[8, 6, 2, 9, 8, 8, 10, 1, 9, 9, 7, 1, 3, 2, 10, 2, 10, 7, 9, 2]\n",
            "[ 8  6  2  9  8  8 10  1  9  9  7  1  3  2 10  2 10  7  9  2]\n"
          ]
        },
        {
          "output_type": "execute_result",
          "data": {
            "text/plain": [
              "array([201.06192983, 113.09733553,  12.56637061, 254.46900494,\n",
              "       201.06192983, 201.06192983, 314.15926536,   3.14159265,\n",
              "       254.46900494, 254.46900494, 153.93804003,   3.14159265,\n",
              "        28.27433388,  12.56637061, 314.15926536,  12.56637061,\n",
              "       314.15926536, 153.93804003, 254.46900494,  12.56637061])"
            ]
          },
          "metadata": {},
          "execution_count": 10
        }
      ]
    },
    {
      "cell_type": "code",
      "metadata": {
        "id": "ooklQ4d-Fk4b",
        "colab": {
          "base_uri": "https://localhost:8080/",
          "height": 166
        },
        "outputId": "b5a5b523-f0f4-4eda-f809-5da1dc0ea68d"
      },
      "source": [
        "radii ** 2"
      ],
      "execution_count": 11,
      "outputs": [
        {
          "output_type": "error",
          "ename": "TypeError",
          "evalue": "ignored",
          "traceback": [
            "\u001b[0;31m---------------------------------------------------------------------------\u001b[0m",
            "\u001b[0;31mTypeError\u001b[0m                                 Traceback (most recent call last)",
            "\u001b[0;32m<ipython-input-11-af365fabeba2>\u001b[0m in \u001b[0;36m<module>\u001b[0;34m\u001b[0m\n\u001b[0;32m----> 1\u001b[0;31m \u001b[0mradii\u001b[0m \u001b[0;34m**\u001b[0m \u001b[0;36m2\u001b[0m\u001b[0;34m\u001b[0m\u001b[0;34m\u001b[0m\u001b[0m\n\u001b[0m",
            "\u001b[0;31mTypeError\u001b[0m: unsupported operand type(s) for ** or pow(): 'list' and 'int'"
          ]
        }
      ]
    },
    {
      "cell_type": "code",
      "metadata": {
        "id": "unq5Iqlbv94k",
        "colab": {
          "base_uri": "https://localhost:8080/",
          "height": 166
        },
        "outputId": "48f27705-50fb-472d-b5a6-25379a547182"
      },
      "source": [
        "3.14 * radii"
      ],
      "execution_count": 12,
      "outputs": [
        {
          "output_type": "error",
          "ename": "TypeError",
          "evalue": "ignored",
          "traceback": [
            "\u001b[0;31m---------------------------------------------------------------------------\u001b[0m",
            "\u001b[0;31mTypeError\u001b[0m                                 Traceback (most recent call last)",
            "\u001b[0;32m<ipython-input-12-6b0a3c5d4a16>\u001b[0m in \u001b[0;36m<module>\u001b[0;34m\u001b[0m\n\u001b[0;32m----> 1\u001b[0;31m \u001b[0;36m3.14\u001b[0m \u001b[0;34m*\u001b[0m \u001b[0mradii\u001b[0m\u001b[0;34m\u001b[0m\u001b[0;34m\u001b[0m\u001b[0m\n\u001b[0m",
            "\u001b[0;31mTypeError\u001b[0m: can't multiply sequence by non-int of type 'float'"
          ]
        }
      ]
    },
    {
      "cell_type": "code",
      "metadata": {
        "id": "xAZOdQ-AF1Mt",
        "colab": {
          "base_uri": "https://localhost:8080/"
        },
        "outputId": "216d257e-62d9-42da-fd96-074063584e92"
      },
      "source": [
        "for radius in radii:\n",
        "  print(np.pi * (radius ** 2))"
      ],
      "execution_count": 14,
      "outputs": [
        {
          "output_type": "stream",
          "name": "stdout",
          "text": [
            "201.06192982974676\n",
            "113.09733552923255\n",
            "12.566370614359172\n",
            "254.46900494077323\n",
            "201.06192982974676\n",
            "201.06192982974676\n",
            "314.1592653589793\n",
            "3.141592653589793\n",
            "254.46900494077323\n",
            "254.46900494077323\n",
            "153.93804002589985\n",
            "3.141592653589793\n",
            "28.274333882308138\n",
            "12.566370614359172\n",
            "314.1592653589793\n",
            "12.566370614359172\n",
            "314.1592653589793\n",
            "153.93804002589985\n",
            "254.46900494077323\n",
            "12.566370614359172\n"
          ]
        }
      ]
    },
    {
      "cell_type": "code",
      "metadata": {
        "id": "VegrJMaAhoJv",
        "colab": {
          "base_uri": "https://localhost:8080/"
        },
        "outputId": "672e2f5d-f164-4473-ea18-1e161fe1ecb5"
      },
      "source": [
        "cyl_radii = np.arange(1, 11) \n",
        "cyl_heights = np.arange(11, 21)\n",
        "\n",
        "cyl_vol = np.pi * (cyl_radii ** 2) * cyl_heights\n",
        "cyl_vol"
      ],
      "execution_count": 15,
      "outputs": [
        {
          "output_type": "execute_result",
          "data": {
            "text/plain": [
              "array([  34.55751919,  150.79644737,  367.56634047,  703.7167544 ,\n",
              "       1178.0972451 , 1809.55736847, 2616.94668044, 3619.11473694,\n",
              "       4834.91109387, 6283.18530718])"
            ]
          },
          "metadata": {},
          "execution_count": 15
        }
      ]
    },
    {
      "cell_type": "markdown",
      "metadata": {
        "id": "o0_iHJJ96hGL"
      },
      "source": [
        "---"
      ]
    },
    {
      "cell_type": "markdown",
      "metadata": {
        "id": "Qoc4ydT3yEDx"
      },
      "source": [
        "####Python List And NumPy Array Performance Comparison"
      ]
    },
    {
      "cell_type": "code",
      "metadata": {
        "id": "MqWJKrzoyB8q",
        "colab": {
          "base_uri": "https://localhost:8080/"
        },
        "outputId": "396beed9-ff23-42ec-8e70-1f892253eaed"
      },
      "source": [
        "import numpy as np\n",
        "import time\n",
        "\n",
        "py_t0 = time.time() \n",
        "py_list = [i for i in range(1, 100001)]\n",
        "py_t1 = time.time()\n",
        "py_time_diff = (py_t1 - py_t0)\n",
        "print(\"Time taken to create a Python list is\", py_time_diff, \"seconds.\")\n",
        "\n",
        "np_t0 = time.time()\n",
        "np_ones = np.arange(1, 100001)\n",
        "\n",
        "np_t1 = time.time()\n",
        "\n",
        "np_time_diff = (np_t1 - np_t0)\n",
        "print(\"Time taken to create a NumPy array is\", np_time_diff, \"seconds.\")\n",
        "\n",
        "print(\"A NumPy array is\", py_time_diff // np_time_diff, \"times faster than a Python list for the same size.\")"
      ],
      "execution_count": 16,
      "outputs": [
        {
          "output_type": "stream",
          "name": "stdout",
          "text": [
            "Time taken to create a Python list is 0.014884233474731445 seconds.\n",
            "Time taken to create a NumPy array is 0.00042247772216796875 seconds.\n",
            "A NumPy array is 35.0 times faster than a Python list for the same size.\n"
          ]
        }
      ]
    },
    {
      "cell_type": "markdown",
      "metadata": {
        "id": "2kwv0EiQ6lWL"
      },
      "source": [
        "---"
      ]
    },
    {
      "cell_type": "markdown",
      "metadata": {
        "id": "vjz9h-lBLNat"
      },
      "source": [
        "####The User-Defined `mode()` Function"
      ]
    },
    {
      "cell_type": "code",
      "metadata": {
        "id": "_fCdTIyI-zqL",
        "colab": {
          "base_uri": "https://localhost:8080/"
        },
        "outputId": "022f8e9b-81ce-4b69-a49a-454fa08692e1"
      },
      "source": [
        "def mode(input_array):\n",
        "  counts_list = []\n",
        "  input_list = list(input_array)\n",
        "  for item in input_list:\n",
        "    item_count = input_list.count(item)\n",
        "    counts_list.append(item_count)\n",
        "\n",
        "  counts_array = np.array(counts_list)\n",
        "  max_count = np.max(counts_array)\n",
        "  max_count_index = counts_list.index(max_count)\n",
        "  mode = input_list[max_count_index]\n",
        "  return mode, max_count\n",
        "\n",
        "mode(prices)"
      ],
      "execution_count": 17,
      "outputs": [
        {
          "output_type": "execute_result",
          "data": {
            "text/plain": [
              "(9999, 2)"
            ]
          },
          "metadata": {},
          "execution_count": 17
        }
      ]
    },
    {
      "cell_type": "markdown",
      "metadata": {
        "id": "tYfqpd06TrIq"
      },
      "source": [
        "---"
      ]
    }
  ]
}