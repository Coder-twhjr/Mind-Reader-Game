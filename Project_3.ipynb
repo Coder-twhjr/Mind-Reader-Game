{
  "nbformat": 4,
  "nbformat_minor": 0,
  "metadata": {
    "colab": {
      "provenance": [],
      "collapsed_sections": [],
      "include_colab_link": true
    },
    "kernelspec": {
      "name": "python3",
      "display_name": "Python 3"
    }
  },
  "cells": [
    {
      "cell_type": "markdown",
      "metadata": {
        "id": "view-in-github",
        "colab_type": "text"
      },
      "source": [
        "<a href=\"https://colab.research.google.com/github/Coder-twhjr/Mind-Reader-Game/blob/main/Project_3.ipynb\" target=\"_parent\"><img src=\"https://colab.research.google.com/assets/colab-badge.svg\" alt=\"Open In Colab\"/></a>"
      ]
    },
    {
      "cell_type": "markdown",
      "metadata": {
        "id": "bEyBzxYRhrLG"
      },
      "source": [
        "#### Goal of the Project\n",
        "\n",
        " 1.  While Loop, Data-Type Conversion and Conditional Statements.\n",
        " \n",
        " 2.  Improving The Algorithm\n"
      ]
    },
    {
      "cell_type": "markdown",
      "metadata": {
        "id": "1PHt6ZUvza-v"
      },
      "source": [
        "---"
      ]
    },
    {
      "cell_type": "code",
      "metadata": {
        "id": "AtvPTG3kpBoS",
        "colab": {
          "base_uri": "https://localhost:8080/"
        },
        "outputId": "bfe98d3e-1f24-4108-f12a-6f905c931832"
      },
      "source": [
        "num = int(input(\"Enter a number: \"))\n",
        "def increment(n):\n",
        "  result = n + 50\n",
        "  return result  \n",
        "\t  \n",
        "increment(num)"
      ],
      "execution_count": 1,
      "outputs": [
        {
          "name": "stdout",
          "output_type": "stream",
          "text": [
            "Enter a number: 7\n"
          ]
        },
        {
          "output_type": "execute_result",
          "data": {
            "text/plain": [
              "57"
            ]
          },
          "metadata": {},
          "execution_count": 1
        }
      ]
    },
    {
      "cell_type": "markdown",
      "metadata": {
        "id": "KOVBiUSMzut1"
      },
      "source": [
        "---"
      ]
    },
    {
      "cell_type": "code",
      "metadata": {
        "id": "NPzmqitTtMJv",
        "colab": {
          "base_uri": "https://localhost:8080/"
        },
        "outputId": "409b0f7f-6bc2-40f5-eded-1052a16fea66"
      },
      "source": [
        "num_1 = int(input(\"Enter the first number: \"))\n",
        "\n",
        "num_2 = int(input(\"Enter the second number: \"))\n",
        "\n",
        "def multiplier(num1, num2):\n",
        "  result = num1 * num2\n",
        "  return result\n",
        "multiplier(num_1, num_2)"
      ],
      "execution_count": 2,
      "outputs": [
        {
          "name": "stdout",
          "output_type": "stream",
          "text": [
            "Enter the first number: 5\n",
            "Enter the second number: 2\n"
          ]
        },
        {
          "output_type": "execute_result",
          "data": {
            "text/plain": [
              "10"
            ]
          },
          "metadata": {},
          "execution_count": 2
        }
      ]
    },
    {
      "cell_type": "markdown",
      "metadata": {
        "id": "MJ_BhADjtOCs"
      },
      "source": [
        "---"
      ]
    }
  ]
}