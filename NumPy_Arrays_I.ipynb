{
  "nbformat": 4,
  "nbformat_minor": 0,
  "metadata": {
    "colab": {
      "provenance": [],
      "collapsed_sections": [],
      "include_colab_link": true
    },
    "kernelspec": {
      "name": "python3",
      "display_name": "Python 3"
    }
  },
  "cells": [
    {
      "cell_type": "markdown",
      "metadata": {
        "id": "view-in-github",
        "colab_type": "text"
      },
      "source": [
        "<a href=\"https://colab.research.google.com/github/Coder-twhjr/Mind-Reader-Game/blob/main/NumPy_Arrays_I.ipynb\" target=\"_parent\"><img src=\"https://colab.research.google.com/assets/colab-badge.svg\" alt=\"Open In Colab\"/></a>"
      ]
    },
    {
      "cell_type": "markdown",
      "metadata": {
        "id": "7LlG_PPFjJUz"
      },
      "source": [
        "#NumPy Arrays I\n"
      ]
    },
    {
      "cell_type": "markdown",
      "metadata": {
        "id": "8C6arOgwIdZR"
      },
      "source": [
        "####NumPy Arrays - The `ones()` & `zeros()` Functions"
      ]
    },
    {
      "cell_type": "code",
      "metadata": {
        "id": "vlgvfn4lhd2L",
        "colab": {
          "base_uri": "https://localhost:8080/"
        },
        "outputId": "8d1b7317-4954-42e5-abc0-bb64cc528ad7"
      },
      "source": [
        "import numpy as np\n",
        "ones = np.ones((5, 3, 3), dtype=int)\n",
        "ones"
      ],
      "execution_count": 1,
      "outputs": [
        {
          "output_type": "execute_result",
          "data": {
            "text/plain": [
              "array([[[1, 1, 1],\n",
              "        [1, 1, 1],\n",
              "        [1, 1, 1]],\n",
              "\n",
              "       [[1, 1, 1],\n",
              "        [1, 1, 1],\n",
              "        [1, 1, 1]],\n",
              "\n",
              "       [[1, 1, 1],\n",
              "        [1, 1, 1],\n",
              "        [1, 1, 1]],\n",
              "\n",
              "       [[1, 1, 1],\n",
              "        [1, 1, 1],\n",
              "        [1, 1, 1]],\n",
              "\n",
              "       [[1, 1, 1],\n",
              "        [1, 1, 1],\n",
              "        [1, 1, 1]]])"
            ]
          },
          "metadata": {},
          "execution_count": 1
        }
      ]
    },
    {
      "cell_type": "code",
      "metadata": {
        "id": "AXL0BiNXc7iK",
        "colab": {
          "base_uri": "https://localhost:8080/"
        },
        "outputId": "a6d4a0e5-d91e-4a01-9e38-28f633203f7f"
      },
      "source": [
        "type(ones)"
      ],
      "execution_count": 2,
      "outputs": [
        {
          "output_type": "execute_result",
          "data": {
            "text/plain": [
              "numpy.ndarray"
            ]
          },
          "metadata": {},
          "execution_count": 2
        }
      ]
    },
    {
      "cell_type": "code",
      "metadata": {
        "id": "lD8__Mj7oT6G",
        "colab": {
          "base_uri": "https://localhost:8080/"
        },
        "outputId": "fbc3acd3-a8bd-434d-f849-659462fd485b"
      },
      "source": [
        "zeros = np.zeros((4, 2, 3), dtype=int)\n",
        "zeros "
      ],
      "execution_count": 3,
      "outputs": [
        {
          "output_type": "execute_result",
          "data": {
            "text/plain": [
              "array([[[0, 0, 0],\n",
              "        [0, 0, 0]],\n",
              "\n",
              "       [[0, 0, 0],\n",
              "        [0, 0, 0]],\n",
              "\n",
              "       [[0, 0, 0],\n",
              "        [0, 0, 0]],\n",
              "\n",
              "       [[0, 0, 0],\n",
              "        [0, 0, 0]]])"
            ]
          },
          "metadata": {},
          "execution_count": 3
        }
      ]
    },
    {
      "cell_type": "code",
      "metadata": {
        "id": "iM5JTdq3b8kt",
        "colab": {
          "base_uri": "https://localhost:8080/"
        },
        "outputId": "c1fd2454-e28f-4db1-ae0c-7aeeffae5bc6"
      },
      "source": [
        "zeros_float = np.zeros((4, 2, 3))\n",
        "zeros_float"
      ],
      "execution_count": 4,
      "outputs": [
        {
          "output_type": "execute_result",
          "data": {
            "text/plain": [
              "array([[[0., 0., 0.],\n",
              "        [0., 0., 0.]],\n",
              "\n",
              "       [[0., 0., 0.],\n",
              "        [0., 0., 0.]],\n",
              "\n",
              "       [[0., 0., 0.],\n",
              "        [0., 0., 0.]],\n",
              "\n",
              "       [[0., 0., 0.],\n",
              "        [0., 0., 0.]]])"
            ]
          },
          "metadata": {},
          "execution_count": 4
        }
      ]
    },
    {
      "cell_type": "markdown",
      "metadata": {
        "id": "5MTE0KcDqqUe"
      },
      "source": [
        "---"
      ]
    },
    {
      "cell_type": "markdown",
      "metadata": {
        "id": "r9A3Qj0cqrCA"
      },
      "source": [
        "####The `dtype` Keyword"
      ]
    },
    {
      "cell_type": "code",
      "metadata": {
        "id": "pxd0yIn5eE9J",
        "colab": {
          "base_uri": "https://localhost:8080/"
        },
        "outputId": "ac2bed32-b060-4359-9bde-40dbddddd196"
      },
      "source": [
        "zeros_float.dtype"
      ],
      "execution_count": 5,
      "outputs": [
        {
          "output_type": "execute_result",
          "data": {
            "text/plain": [
              "dtype('float64')"
            ]
          },
          "metadata": {},
          "execution_count": 5
        }
      ]
    },
    {
      "cell_type": "code",
      "metadata": {
        "id": "2lFDm3JvgwgN",
        "colab": {
          "base_uri": "https://localhost:8080/"
        },
        "outputId": "69043bc2-f404-44af-e7a5-f874951a3363"
      },
      "source": [
        "ones.dtype"
      ],
      "execution_count": 6,
      "outputs": [
        {
          "output_type": "execute_result",
          "data": {
            "text/plain": [
              "dtype('int64')"
            ]
          },
          "metadata": {},
          "execution_count": 6
        }
      ]
    },
    {
      "cell_type": "code",
      "metadata": {
        "id": "cA-nCcNS6T9I",
        "colab": {
          "base_uri": "https://localhost:8080/"
        },
        "outputId": "a5831df6-0533-4f12-9e69-922c923886d6"
      },
      "source": [
        "import random\n",
        "import numpy\n",
        "\n",
        "print(type(2020))\n",
        "print(type(3.14))\n",
        "print(type('Earth'))\n",
        "print(type([i for i in range(1, 11)]))\n",
        "print(type(numpy))\n",
        "print(type(random))"
      ],
      "execution_count": 7,
      "outputs": [
        {
          "output_type": "stream",
          "name": "stdout",
          "text": [
            "<class 'int'>\n",
            "<class 'float'>\n",
            "<class 'str'>\n",
            "<class 'list'>\n",
            "<class 'module'>\n",
            "<class 'module'>\n"
          ]
        }
      ]
    },
    {
      "cell_type": "markdown",
      "metadata": {
        "id": "qikzHXnYobUR"
      },
      "source": [
        "---"
      ]
    },
    {
      "cell_type": "markdown",
      "metadata": {
        "id": "qkZj_ZVTiHz9"
      },
      "source": [
        "####The `ndim` And `shape` Keywords"
      ]
    },
    {
      "cell_type": "code",
      "metadata": {
        "id": "aKuQhbixiMVK",
        "colab": {
          "base_uri": "https://localhost:8080/"
        },
        "outputId": "be42a6d0-7227-4fa3-cea7-55651fa9494e"
      },
      "source": [
        "print(ones.ndim)\n",
        "print(zeros.ndim)\n",
        "print(zeros_float.ndim)"
      ],
      "execution_count": 8,
      "outputs": [
        {
          "output_type": "stream",
          "name": "stdout",
          "text": [
            "3\n",
            "3\n",
            "3\n"
          ]
        }
      ]
    },
    {
      "cell_type": "code",
      "metadata": {
        "id": "f8jxBActlY0o",
        "colab": {
          "base_uri": "https://localhost:8080/"
        },
        "outputId": "6c22d676-17e1-4c16-9d33-f8c257e2934c"
      },
      "source": [
        "print(ones.shape)\n",
        "print(zeros.shape)\n",
        "print(zeros_float.shape)"
      ],
      "execution_count": 9,
      "outputs": [
        {
          "output_type": "stream",
          "name": "stdout",
          "text": [
            "(5, 3, 3)\n",
            "(4, 2, 3)\n",
            "(4, 2, 3)\n"
          ]
        }
      ]
    },
    {
      "cell_type": "markdown",
      "metadata": {
        "id": "jW-6nwfUlQi1"
      },
      "source": [
        "---"
      ]
    },
    {
      "cell_type": "markdown",
      "metadata": {
        "id": "83zFWveBmVT4"
      },
      "source": [
        "####The `arange()` And `linspace()` Functions"
      ]
    },
    {
      "cell_type": "code",
      "metadata": {
        "id": "RvOk2XS6mz7g",
        "colab": {
          "base_uri": "https://localhost:8080/"
        },
        "outputId": "2f22ea4e-e774-48aa-d863-22a2178c2689"
      },
      "source": [
        "array1 = np.arange(5, 21)\n",
        "array1"
      ],
      "execution_count": 10,
      "outputs": [
        {
          "output_type": "execute_result",
          "data": {
            "text/plain": [
              "array([ 5,  6,  7,  8,  9, 10, 11, 12, 13, 14, 15, 16, 17, 18, 19, 20])"
            ]
          },
          "metadata": {},
          "execution_count": 10
        }
      ]
    },
    {
      "cell_type": "code",
      "metadata": {
        "id": "MlDrsatOm4uU",
        "colab": {
          "base_uri": "https://localhost:8080/"
        },
        "outputId": "ac959f2b-8335-401b-90d5-d41cffd4a62e"
      },
      "source": [
        "array2 = np.arange(1, 25, 4) \n",
        "array2"
      ],
      "execution_count": 11,
      "outputs": [
        {
          "output_type": "execute_result",
          "data": {
            "text/plain": [
              "array([ 1,  5,  9, 13, 17, 21])"
            ]
          },
          "metadata": {},
          "execution_count": 11
        }
      ]
    },
    {
      "cell_type": "code",
      "metadata": {
        "id": "G3TJYq0dm9qU",
        "colab": {
          "base_uri": "https://localhost:8080/"
        },
        "outputId": "1f4fe9c3-e6ea-4d0b-daf8-9b3e4919db68"
      },
      "source": [
        "array3 = np.arange(1, 25, 4, dtype=float) \n",
        "array3"
      ],
      "execution_count": 12,
      "outputs": [
        {
          "output_type": "execute_result",
          "data": {
            "text/plain": [
              "array([ 1.,  5.,  9., 13., 17., 21.])"
            ]
          },
          "metadata": {},
          "execution_count": 12
        }
      ]
    },
    {
      "cell_type": "code",
      "metadata": {
        "id": "SCdhTcEinE9y",
        "colab": {
          "base_uri": "https://localhost:8080/"
        },
        "outputId": "c868aeac-fb48-4e9e-a87d-b18bc56eaa30"
      },
      "source": [
        "array4 = np.linspace(1, 25, 4)\n",
        "array4"
      ],
      "execution_count": 13,
      "outputs": [
        {
          "output_type": "execute_result",
          "data": {
            "text/plain": [
              "array([ 1.,  9., 17., 25.])"
            ]
          },
          "metadata": {},
          "execution_count": 13
        }
      ]
    },
    {
      "cell_type": "code",
      "metadata": {
        "id": "Yma1-oPkFXuU",
        "colab": {
          "base_uri": "https://localhost:8080/"
        },
        "outputId": "fe1ba79f-463d-472e-b445-3022ac669f13"
      },
      "source": [
        "array5 = np.linspace(1, 25, 10)\n",
        "array5"
      ],
      "execution_count": 14,
      "outputs": [
        {
          "output_type": "execute_result",
          "data": {
            "text/plain": [
              "array([ 1.        ,  3.66666667,  6.33333333,  9.        , 11.66666667,\n",
              "       14.33333333, 17.        , 19.66666667, 22.33333333, 25.        ])"
            ]
          },
          "metadata": {},
          "execution_count": 14
        }
      ]
    },
    {
      "cell_type": "markdown",
      "metadata": {
        "id": "KQ0PGPSitkjx"
      },
      "source": [
        "---"
      ]
    },
    {
      "cell_type": "markdown",
      "metadata": {
        "id": "i5XfedwAtmQn"
      },
      "source": [
        "####The `reshape()` Function"
      ]
    },
    {
      "cell_type": "code",
      "metadata": {
        "id": "TVSPwGGJuZUb",
        "colab": {
          "base_uri": "https://localhost:8080/"
        },
        "outputId": "4ad6d03b-0ff4-489f-9b1a-79fd6632fe51"
      },
      "source": [
        "print(zeros)\n",
        "reshaped_zeros = zeros.reshape(6, 4)\n",
        "reshaped_zeros"
      ],
      "execution_count": 15,
      "outputs": [
        {
          "output_type": "stream",
          "name": "stdout",
          "text": [
            "[[[0 0 0]\n",
            "  [0 0 0]]\n",
            "\n",
            " [[0 0 0]\n",
            "  [0 0 0]]\n",
            "\n",
            " [[0 0 0]\n",
            "  [0 0 0]]\n",
            "\n",
            " [[0 0 0]\n",
            "  [0 0 0]]]\n"
          ]
        },
        {
          "output_type": "execute_result",
          "data": {
            "text/plain": [
              "array([[0, 0, 0, 0],\n",
              "       [0, 0, 0, 0],\n",
              "       [0, 0, 0, 0],\n",
              "       [0, 0, 0, 0],\n",
              "       [0, 0, 0, 0],\n",
              "       [0, 0, 0, 0]])"
            ]
          },
          "metadata": {},
          "execution_count": 15
        }
      ]
    },
    {
      "cell_type": "code",
      "metadata": {
        "id": "pruLdnwvulL3",
        "colab": {
          "base_uri": "https://localhost:8080/"
        },
        "outputId": "0c7ba54d-4ad8-4bee-ef26-9592a083876e"
      },
      "source": [
        "reshaped_ones = ones.reshape((45,)) # (45,) signifies that the array has just one row and 45 items.\n",
        "reshaped_ones"
      ],
      "execution_count": 16,
      "outputs": [
        {
          "output_type": "execute_result",
          "data": {
            "text/plain": [
              "array([1, 1, 1, 1, 1, 1, 1, 1, 1, 1, 1, 1, 1, 1, 1, 1, 1, 1, 1, 1, 1, 1,\n",
              "       1, 1, 1, 1, 1, 1, 1, 1, 1, 1, 1, 1, 1, 1, 1, 1, 1, 1, 1, 1, 1, 1,\n",
              "       1])"
            ]
          },
          "metadata": {},
          "execution_count": 16
        }
      ]
    },
    {
      "cell_type": "markdown",
      "metadata": {
        "id": "PABm6WB9mUbu"
      },
      "source": [
        "---"
      ]
    },
    {
      "cell_type": "markdown",
      "metadata": {
        "id": "BzGc9n870SGw"
      },
      "source": [
        "####The `ndarray()` Function"
      ]
    },
    {
      "cell_type": "code",
      "metadata": {
        "id": "col1d2ca0H9D",
        "colab": {
          "base_uri": "https://localhost:8080/"
        },
        "outputId": "333b087d-4478-4b3b-b1d8-9a0d026ca34d"
      },
      "source": [
        "some_array = np.ndarray((5, 2), dtype=int)\n",
        "some_array"
      ],
      "execution_count": 17,
      "outputs": [
        {
          "output_type": "execute_result",
          "data": {
            "text/plain": [
              "array([[4607182418800017408, 4615439018116863317],\n",
              "       [4618816717837391189, 4621256167635550208],\n",
              "       [4622757367511340373, 4624258567387130538],\n",
              "       [4625478292286210048, 4626228892224105130],\n",
              "       [4626979492162000213, 4627730092099895296]])"
            ]
          },
          "metadata": {},
          "execution_count": 17
        }
      ]
    },
    {
      "cell_type": "markdown",
      "metadata": {
        "id": "7kDnzej73oIB"
      },
      "source": [
        "---"
      ]
    },
    {
      "cell_type": "markdown",
      "metadata": {
        "id": "w3vt6nG702lD"
      },
      "source": [
        "####The `random.randint()` Function"
      ]
    },
    {
      "cell_type": "code",
      "metadata": {
        "id": "afZhlYWK03jU",
        "colab": {
          "base_uri": "https://localhost:8080/"
        },
        "outputId": "d51befce-789d-4da4-a2d7-8f09df27c9b1"
      },
      "source": [
        "rand_1d_array = np.random.randint(50, 100, size=15)\n",
        "rand_1d_array"
      ],
      "execution_count": 18,
      "outputs": [
        {
          "output_type": "execute_result",
          "data": {
            "text/plain": [
              "array([68, 81, 73, 90, 90, 99, 56, 63, 62, 68, 75, 90, 62, 61, 70])"
            ]
          },
          "metadata": {},
          "execution_count": 18
        }
      ]
    },
    {
      "cell_type": "code",
      "metadata": {
        "id": "4ts8pu2108A7",
        "colab": {
          "base_uri": "https://localhost:8080/"
        },
        "outputId": "ff0c27d7-9075-4491-ad40-9965177e880c"
      },
      "source": [
        "rand_2d_array = np.random.randint(50, 100, size=(5, 3))\n",
        "rand_2d_array"
      ],
      "execution_count": 19,
      "outputs": [
        {
          "output_type": "execute_result",
          "data": {
            "text/plain": [
              "array([[67, 87, 85],\n",
              "       [96, 80, 75],\n",
              "       [81, 83, 91],\n",
              "       [77, 62, 81],\n",
              "       [62, 80, 84]])"
            ]
          },
          "metadata": {},
          "execution_count": 19
        }
      ]
    },
    {
      "cell_type": "code",
      "metadata": {
        "id": "lsSEVTrn1AyS",
        "colab": {
          "base_uri": "https://localhost:8080/"
        },
        "outputId": "316a332f-b539-4c7c-fc78-fdbc1e7309fb"
      },
      "source": [
        "rand_3d_array = np.random.randint(10, 50, size=(4, 2, 5))\n",
        "rand_3d_array"
      ],
      "execution_count": 20,
      "outputs": [
        {
          "output_type": "execute_result",
          "data": {
            "text/plain": [
              "array([[[20, 10, 12, 46, 44],\n",
              "        [14, 44, 45, 48, 46]],\n",
              "\n",
              "       [[35, 21, 28, 41, 19],\n",
              "        [21, 44, 28, 31, 22]],\n",
              "\n",
              "       [[16, 23, 31, 42, 41],\n",
              "        [14, 38, 49, 20, 45]],\n",
              "\n",
              "       [[16, 22, 17, 26, 13],\n",
              "        [14, 21, 11, 16, 17]]])"
            ]
          },
          "metadata": {},
          "execution_count": 20
        }
      ]
    },
    {
      "cell_type": "markdown",
      "metadata": {
        "id": "v57wLWnh01qh"
      },
      "source": [
        "---"
      ]
    },
    {
      "cell_type": "markdown",
      "metadata": {
        "id": "V_OCAj0f3paN"
      },
      "source": [
        "####The `array()` Function"
      ]
    },
    {
      "cell_type": "code",
      "metadata": {
        "id": "ekUreHwA4AuX",
        "colab": {
          "base_uri": "https://localhost:8080/"
        },
        "outputId": "41796a2d-6943-451f-ed1a-cc87cad678c0"
      },
      "source": [
        "arr = np.array([i for i in range(1, 16)])\n",
        "arr"
      ],
      "execution_count": 21,
      "outputs": [
        {
          "output_type": "execute_result",
          "data": {
            "text/plain": [
              "array([ 1,  2,  3,  4,  5,  6,  7,  8,  9, 10, 11, 12, 13, 14, 15])"
            ]
          },
          "metadata": {},
          "execution_count": 21
        }
      ]
    },
    {
      "cell_type": "code",
      "metadata": {
        "id": "VOEbjYwC1nF7",
        "colab": {
          "base_uri": "https://localhost:8080/"
        },
        "outputId": "c3c2a151-603a-48ed-a89f-d02c3093f1f7"
      },
      "source": [
        "type(arr)"
      ],
      "execution_count": 22,
      "outputs": [
        {
          "output_type": "execute_result",
          "data": {
            "text/plain": [
              "numpy.ndarray"
            ]
          },
          "metadata": {},
          "execution_count": 22
        }
      ]
    },
    {
      "cell_type": "markdown",
      "metadata": {
        "id": "2doxkX1qyC9S"
      },
      "source": [
        "---"
      ]
    },
    {
      "cell_type": "markdown",
      "metadata": {
        "id": "yDM2ZGP6J00k"
      },
      "source": [
        "####The `list()` Function"
      ]
    },
    {
      "cell_type": "code",
      "metadata": {
        "id": "SkKJekR5KOad"
      },
      "source": [
        "arr_converted = list(arr)"
      ],
      "execution_count": 23,
      "outputs": []
    },
    {
      "cell_type": "code",
      "metadata": {
        "id": "us1-glqEKZ_m",
        "colab": {
          "base_uri": "https://localhost:8080/"
        },
        "outputId": "f0c54aa1-57bf-4106-bf30-cc076789a931"
      },
      "source": [
        "type(arr_converted)"
      ],
      "execution_count": 24,
      "outputs": [
        {
          "output_type": "execute_result",
          "data": {
            "text/plain": [
              "list"
            ]
          },
          "metadata": {},
          "execution_count": 24
        }
      ]
    },
    {
      "cell_type": "markdown",
      "metadata": {
        "id": "sOoBZyjS0e9W"
      },
      "source": [
        "---"
      ]
    },
    {
      "cell_type": "markdown",
      "metadata": {
        "id": "-XLCEilb0fqW"
      },
      "source": [
        "####The `sqrt()` Function"
      ]
    },
    {
      "cell_type": "code",
      "metadata": {
        "id": "_TUP-If80jOu",
        "colab": {
          "base_uri": "https://localhost:8080/"
        },
        "outputId": "438e7e70-c09d-4b0e-b567-8f497b916c68"
      },
      "source": [
        "def is_triangle(a, b, c):\n",
        "  if ((a + b) > c) and ((a + c) > b) and ((b + c) > a):\n",
        "    return True\n",
        "  else:\n",
        "    return False\n",
        "\n",
        "is_triangle(5, 6, 7)"
      ],
      "execution_count": 25,
      "outputs": [
        {
          "output_type": "execute_result",
          "data": {
            "text/plain": [
              "True"
            ]
          },
          "metadata": {},
          "execution_count": 25
        }
      ]
    },
    {
      "cell_type": "code",
      "metadata": {
        "id": "MykC-hZR0ls9",
        "colab": {
          "base_uri": "https://localhost:8080/"
        },
        "outputId": "69df3eca-f8e9-4eaa-b41b-ce9842a5700f"
      },
      "source": [
        "def heron_formula(a, b, c):\n",
        "  if is_triangle(a, b, c) == True:\n",
        "    s = (a + b + c) / 2\n",
        "    return np.sqrt(s * (s - a) * (s - b) * (s - c))\n",
        "  else:\n",
        "    return \"Invalid triangle.\"\n",
        "\n",
        "print(heron_formula(5, 1, 7))\n",
        "heron_formula(5, 6, 7)"
      ],
      "execution_count": 26,
      "outputs": [
        {
          "output_type": "stream",
          "name": "stdout",
          "text": [
            "Invalid triangle.\n"
          ]
        },
        {
          "output_type": "execute_result",
          "data": {
            "text/plain": [
              "14.696938456699069"
            ]
          },
          "metadata": {},
          "execution_count": 26
        }
      ]
    },
    {
      "cell_type": "markdown",
      "metadata": {
        "id": "DpXlygkgK_jk"
      },
      "source": [
        "---"
      ]
    },
    {
      "cell_type": "markdown",
      "metadata": {
        "id": "2gnvLtH8zgjd"
      },
      "source": [
        "####Trigonometric, Exponential & Logarithmic Functions\n",
        "\n"
      ]
    },
    {
      "cell_type": "code",
      "metadata": {
        "id": "i4T6iV18zh2_",
        "colab": {
          "base_uri": "https://localhost:8080/"
        },
        "outputId": "707d9573-9bdb-483a-c5ab-e89bf7042637"
      },
      "source": [
        "angles = np.arange(0, 95, 15)\n",
        "angles"
      ],
      "execution_count": 27,
      "outputs": [
        {
          "output_type": "execute_result",
          "data": {
            "text/plain": [
              "array([ 0, 15, 30, 45, 60, 75, 90])"
            ]
          },
          "metadata": {},
          "execution_count": 27
        }
      ]
    },
    {
      "cell_type": "markdown",
      "metadata": {
        "id": "eFple2rbzpYE"
      },
      "source": [
        "**The `np.sin()` Function** "
      ]
    },
    {
      "cell_type": "code",
      "metadata": {
        "id": "jGlk0s1fzk04",
        "colab": {
          "base_uri": "https://localhost:8080/"
        },
        "outputId": "a1177c97-1236-429a-862b-e33e408ee3c1"
      },
      "source": [
        "np.sin(np.deg2rad(angles))"
      ],
      "execution_count": 28,
      "outputs": [
        {
          "output_type": "execute_result",
          "data": {
            "text/plain": [
              "array([0.        , 0.25881905, 0.5       , 0.70710678, 0.8660254 ,\n",
              "       0.96592583, 1.        ])"
            ]
          },
          "metadata": {},
          "execution_count": 28
        }
      ]
    },
    {
      "cell_type": "markdown",
      "metadata": {
        "id": "szEqtDA0zsIB"
      },
      "source": [
        "**The `np.cos()` Function** "
      ]
    },
    {
      "cell_type": "code",
      "metadata": {
        "id": "gxYPFQ-ozuy_",
        "colab": {
          "base_uri": "https://localhost:8080/"
        },
        "outputId": "2f2a206e-8b2e-4004-9e1a-6447bc61ad8b"
      },
      "source": [
        "np.cos(np.deg2rad(angles))"
      ],
      "execution_count": 29,
      "outputs": [
        {
          "output_type": "execute_result",
          "data": {
            "text/plain": [
              "array([1.00000000e+00, 9.65925826e-01, 8.66025404e-01, 7.07106781e-01,\n",
              "       5.00000000e-01, 2.58819045e-01, 6.12323400e-17])"
            ]
          },
          "metadata": {},
          "execution_count": 29
        }
      ]
    },
    {
      "cell_type": "markdown",
      "metadata": {
        "id": "jy_flKJEzx8h"
      },
      "source": [
        "**The `np.tan()` Function** "
      ]
    },
    {
      "cell_type": "code",
      "metadata": {
        "id": "h9ZGTeF1z2j8",
        "colab": {
          "base_uri": "https://localhost:8080/"
        },
        "outputId": "7b6ad42f-beea-4d51-bb6c-360a32025f53"
      },
      "source": [
        "np.tan(np.deg2rad(angles))"
      ],
      "execution_count": 30,
      "outputs": [
        {
          "output_type": "execute_result",
          "data": {
            "text/plain": [
              "array([0.00000000e+00, 2.67949192e-01, 5.77350269e-01, 1.00000000e+00,\n",
              "       1.73205081e+00, 3.73205081e+00, 1.63312394e+16])"
            ]
          },
          "metadata": {},
          "execution_count": 30
        }
      ]
    },
    {
      "cell_type": "markdown",
      "metadata": {
        "id": "t70I4Fpwz64W"
      },
      "source": [
        "**The `np.exp()` Function** "
      ]
    },
    {
      "cell_type": "code",
      "metadata": {
        "id": "qxM2iisoz_Kk",
        "colab": {
          "base_uri": "https://localhost:8080/"
        },
        "outputId": "0a9ae8f9-26e3-479e-e82b-3971e2ff1212"
      },
      "source": [
        "exp = [np.exp(i) for i in range(1, 11)]\n",
        "exp"
      ],
      "execution_count": 31,
      "outputs": [
        {
          "output_type": "execute_result",
          "data": {
            "text/plain": [
              "[2.718281828459045,\n",
              " 7.38905609893065,\n",
              " 20.085536923187668,\n",
              " 54.598150033144236,\n",
              " 148.4131591025766,\n",
              " 403.4287934927351,\n",
              " 1096.6331584284585,\n",
              " 2980.9579870417283,\n",
              " 8103.083927575384,\n",
              " 22026.465794806718]"
            ]
          },
          "metadata": {},
          "execution_count": 31
        }
      ]
    },
    {
      "cell_type": "markdown",
      "metadata": {
        "id": "rAI64H2s0DUe"
      },
      "source": [
        "**The `np.log()` Function** \n",
        "\n",
        "The default base of `np.log()` function is $e = 2.7182$ or `np.exp(1)`"
      ]
    },
    {
      "cell_type": "code",
      "metadata": {
        "id": "1DL7LKjD0D8Y",
        "colab": {
          "base_uri": "https://localhost:8080/"
        },
        "outputId": "02c63352-151c-4dab-d072-2cc0772b2f98"
      },
      "source": [
        "np.log(exp)"
      ],
      "execution_count": 32,
      "outputs": [
        {
          "output_type": "execute_result",
          "data": {
            "text/plain": [
              "array([ 1.,  2.,  3.,  4.,  5.,  6.,  7.,  8.,  9., 10.])"
            ]
          },
          "metadata": {},
          "execution_count": 32
        }
      ]
    },
    {
      "cell_type": "code",
      "metadata": {
        "id": "7Ub3BKk80IOP",
        "colab": {
          "base_uri": "https://localhost:8080/"
        },
        "outputId": "3380f02e-9cb9-4711-f692-0d379b09d5c5"
      },
      "source": [
        "np.log10([10 ** i for i in range(1, 11)])"
      ],
      "execution_count": 33,
      "outputs": [
        {
          "output_type": "execute_result",
          "data": {
            "text/plain": [
              "array([ 1.,  2.,  3.,  4.,  5.,  6.,  7.,  8.,  9., 10.])"
            ]
          },
          "metadata": {},
          "execution_count": 33
        }
      ]
    },
    {
      "cell_type": "markdown",
      "metadata": {
        "id": "OLiNu8px0Mg-"
      },
      "source": [
        "---"
      ]
    },
    {
      "cell_type": "markdown",
      "metadata": {
        "id": "gptd5i5F0NZB"
      },
      "source": [
        "####Union & Intersection"
      ]
    },
    {
      "cell_type": "code",
      "metadata": {
        "id": "tEq-RSeL0KSQ",
        "colab": {
          "base_uri": "https://localhost:8080/"
        },
        "outputId": "07fc14b7-b960-4a36-ba1d-0ebed3f5f6d2"
      },
      "source": [
        "array1 = np.arange(1, 11)\n",
        "array2 = np.arange(6, 26)\n",
        "np.intersect1d(array1, array2)"
      ],
      "execution_count": 34,
      "outputs": [
        {
          "output_type": "execute_result",
          "data": {
            "text/plain": [
              "array([ 6,  7,  8,  9, 10])"
            ]
          },
          "metadata": {},
          "execution_count": 34
        }
      ]
    },
    {
      "cell_type": "code",
      "metadata": {
        "id": "JkBd46vd0R7M",
        "colab": {
          "base_uri": "https://localhost:8080/"
        },
        "outputId": "185a809b-e4b4-4fe9-c186-2bede1ab084b"
      },
      "source": [
        "np.union1d(array1, array2)"
      ],
      "execution_count": 35,
      "outputs": [
        {
          "output_type": "execute_result",
          "data": {
            "text/plain": [
              "array([ 1,  2,  3,  4,  5,  6,  7,  8,  9, 10, 11, 12, 13, 14, 15, 16, 17,\n",
              "       18, 19, 20, 21, 22, 23, 24, 25])"
            ]
          },
          "metadata": {},
          "execution_count": 35
        }
      ]
    },
    {
      "cell_type": "markdown",
      "metadata": {
        "id": "BDIuaf0VzfwZ"
      },
      "source": [
        "---"
      ]
    }
  ]
}