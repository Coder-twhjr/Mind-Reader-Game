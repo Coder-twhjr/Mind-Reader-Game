{
  "nbformat": 4,
  "nbformat_minor": 0,
  "metadata": {
    "colab": {
      "provenance": [],
      "collapsed_sections": [],
      "include_colab_link": true
    },
    "kernelspec": {
      "name": "python3",
      "display_name": "Python 3"
    }
  },
  "cells": [
    {
      "cell_type": "markdown",
      "metadata": {
        "id": "view-in-github",
        "colab_type": "text"
      },
      "source": [
        "<a href=\"https://colab.research.google.com/github/Coder-twhjr/Mind-Reader-Game/blob/main/Nested_Python_Lists.ipynb\" target=\"_parent\"><img src=\"https://colab.research.google.com/assets/colab-badge.svg\" alt=\"Open In Colab\"/></a>"
      ]
    },
    {
      "cell_type": "markdown",
      "metadata": {
        "id": "7LlG_PPFjJUz"
      },
      "source": [
        "# Nested Python Lists\n"
      ]
    },
    {
      "cell_type": "markdown",
      "metadata": {
        "id": "PUgYXGbR-0Uh"
      },
      "source": [
        "####Data Representation In Two-Dimensions Using Python Lists"
      ]
    },
    {
      "cell_type": "code",
      "metadata": {
        "id": "LgxEFIOD-26f",
        "colab": {
          "base_uri": "https://localhost:8080/"
        },
        "outputId": "46c44736-f25b-491c-b082-c2429d6f517f"
      },
      "source": [
        "planet_diameters = [['Mercury', 4879], \n",
        "                    ['Venus', 12104], \n",
        "                    ['Earth', 12756], \n",
        "                    ['Mars', 6792], \n",
        "                    ['Jupiter', 142984], \n",
        "                    ['Saturn', 120536], \n",
        "                    ['Uranus', 51118], \n",
        "                    ['Neptune', 49528], \n",
        "                    ['Pluto', 2370]]\n",
        "planet_diameters"
      ],
      "execution_count": 1,
      "outputs": [
        {
          "output_type": "execute_result",
          "data": {
            "text/plain": [
              "[['Mercury', 4879],\n",
              " ['Venus', 12104],\n",
              " ['Earth', 12756],\n",
              " ['Mars', 6792],\n",
              " ['Jupiter', 142984],\n",
              " ['Saturn', 120536],\n",
              " ['Uranus', 51118],\n",
              " ['Neptune', 49528],\n",
              " ['Pluto', 2370]]"
            ]
          },
          "metadata": {},
          "execution_count": 1
        }
      ]
    },
    {
      "cell_type": "code",
      "metadata": {
        "id": "G8ehLQ5N-6CM",
        "colab": {
          "base_uri": "https://localhost:8080/"
        },
        "outputId": "343966b4-af49-416e-84da-e4f2528bff4d"
      },
      "source": [
        "planet_data = [['Mercury', 4879, 5427, 3.7], \n",
        "                ['Venus', 12104, 5243, 8.9], \n",
        "                ['Earth', 12756, 5514, 9.8],  \n",
        "                ['Mars', 6792, 3933, 3.7], \n",
        "                ['Jupiter', 142984, 1326, 23.1], \n",
        "                ['Saturn', 120536, 687, 9.0], \n",
        "                ['Uranus', 51118, 1271, 8.7], \n",
        "                ['Neptune', 49528, 1638, 11.0], \n",
        "                ['Pluto', 2370, 2095, 0.7]]\n",
        "\n",
        "planet_data"
      ],
      "execution_count": 2,
      "outputs": [
        {
          "output_type": "execute_result",
          "data": {
            "text/plain": [
              "[['Mercury', 4879, 5427, 3.7],\n",
              " ['Venus', 12104, 5243, 8.9],\n",
              " ['Earth', 12756, 5514, 9.8],\n",
              " ['Mars', 6792, 3933, 3.7],\n",
              " ['Jupiter', 142984, 1326, 23.1],\n",
              " ['Saturn', 120536, 687, 9.0],\n",
              " ['Uranus', 51118, 1271, 8.7],\n",
              " ['Neptune', 49528, 1638, 11.0],\n",
              " ['Pluto', 2370, 2095, 0.7]]"
            ]
          },
          "metadata": {},
          "execution_count": 2
        }
      ]
    },
    {
      "cell_type": "markdown",
      "metadata": {
        "id": "-Q6JpUh9_uNh"
      },
      "source": [
        "---"
      ]
    },
    {
      "cell_type": "markdown",
      "metadata": {
        "id": "rt6SyGw5-80p"
      },
      "source": [
        "####Indexing A Nested List"
      ]
    },
    {
      "cell_type": "code",
      "metadata": {
        "id": "eG3W2xq0_AlX",
        "colab": {
          "base_uri": "https://localhost:8080/"
        },
        "outputId": "29e8ecb1-3ef1-4497-8d02-0014746dc9bb"
      },
      "source": [
        "planet_data[4][1]"
      ],
      "execution_count": 3,
      "outputs": [
        {
          "output_type": "execute_result",
          "data": {
            "text/plain": [
              "142984"
            ]
          },
          "metadata": {},
          "execution_count": 3
        }
      ]
    },
    {
      "cell_type": "code",
      "metadata": {
        "id": "TJTqwWs3_FLX",
        "colab": {
          "base_uri": "https://localhost:8080/"
        },
        "outputId": "72137a74-1072-4f70-bcbc-0bac2a0d52b9"
      },
      "source": [
        "planet_data[5][2]"
      ],
      "execution_count": 4,
      "outputs": [
        {
          "output_type": "execute_result",
          "data": {
            "text/plain": [
              "687"
            ]
          },
          "metadata": {},
          "execution_count": 4
        }
      ]
    },
    {
      "cell_type": "code",
      "metadata": {
        "id": "Bv0dXmVU4mI1",
        "colab": {
          "base_uri": "https://localhost:8080/"
        },
        "outputId": "b11f5a28-f093-4c40-fe4e-4ef80e0442b3"
      },
      "source": [
        "planet_data[3]"
      ],
      "execution_count": 5,
      "outputs": [
        {
          "output_type": "execute_result",
          "data": {
            "text/plain": [
              "['Mars', 6792, 3933, 3.7]"
            ]
          },
          "metadata": {},
          "execution_count": 5
        }
      ]
    },
    {
      "cell_type": "markdown",
      "metadata": {
        "id": "Z41PMkO6twJY"
      },
      "source": [
        "---"
      ]
    },
    {
      "cell_type": "markdown",
      "metadata": {
        "id": "pvs9woietw-g"
      },
      "source": [
        "####Length Of Nested Python Lists"
      ]
    },
    {
      "cell_type": "code",
      "metadata": {
        "id": "VxS958TmuKM7",
        "colab": {
          "base_uri": "https://localhost:8080/"
        },
        "outputId": "9f7b1f11-0741-414e-eb09-5c4b037b903d"
      },
      "source": [
        "len(planet_data)"
      ],
      "execution_count": 6,
      "outputs": [
        {
          "output_type": "execute_result",
          "data": {
            "text/plain": [
              "9"
            ]
          },
          "metadata": {},
          "execution_count": 6
        }
      ]
    },
    {
      "cell_type": "code",
      "metadata": {
        "id": "3uG5bpc6ugJG",
        "colab": {
          "base_uri": "https://localhost:8080/"
        },
        "outputId": "f348ef7a-22b5-4fe9-cf0c-f0c65cb06e21"
      },
      "source": [
        "num_items = 0\n",
        "\n",
        "for sublist in planet_data:\n",
        "  length_of_sublist = len(sublist)\n",
        "  num_items = num_items + length_of_sublist\n",
        "\n",
        "num_items"
      ],
      "execution_count": 7,
      "outputs": [
        {
          "output_type": "execute_result",
          "data": {
            "text/plain": [
              "36"
            ]
          },
          "metadata": {},
          "execution_count": 7
        }
      ]
    },
    {
      "cell_type": "markdown",
      "metadata": {
        "id": "DnlxSGHc-zCk"
      },
      "source": [
        "---"
      ]
    },
    {
      "cell_type": "markdown",
      "metadata": {
        "id": "7_j0m3MB0GfD"
      },
      "source": [
        "####Data Representation In Three-Dimensions Using Python Lists"
      ]
    },
    {
      "cell_type": "code",
      "metadata": {
        "id": "sxzt8Po1VorE",
        "colab": {
          "base_uri": "https://localhost:8080/"
        },
        "outputId": "47c5cd24-16e5-401c-bd2a-e272c2f6cfb9"
      },
      "source": [
        "three_dim_list = [\n",
        "                  [[111, 112, 113], \n",
        "                   [121, 122, 123],\n",
        "                   [131, 132, 133]],\n",
        "                   \n",
        "                  [[211, 212, 213], \n",
        "                   [221, 222, 223],\n",
        "                   [231, 232, 233]],\n",
        "                   \n",
        "                  [[311, 312, 313], \n",
        "                   [321, 322, 323],\n",
        "                   [331, 332, 333]]\n",
        "                  ]\n",
        "\n",
        "three_dim_list"
      ],
      "execution_count": 8,
      "outputs": [
        {
          "output_type": "execute_result",
          "data": {
            "text/plain": [
              "[[[111, 112, 113], [121, 122, 123], [131, 132, 133]],\n",
              " [[211, 212, 213], [221, 222, 223], [231, 232, 233]],\n",
              " [[311, 312, 313], [321, 322, 323], [331, 332, 333]]]"
            ]
          },
          "metadata": {},
          "execution_count": 8
        }
      ]
    },
    {
      "cell_type": "code",
      "metadata": {
        "id": "DVaVcWNZ3EYT",
        "colab": {
          "base_uri": "https://localhost:8080/"
        },
        "outputId": "be90f424-58d4-4337-fc73-1b243ccdda17"
      },
      "source": [
        "len(three_dim_list)"
      ],
      "execution_count": 9,
      "outputs": [
        {
          "output_type": "execute_result",
          "data": {
            "text/plain": [
              "3"
            ]
          },
          "metadata": {},
          "execution_count": 9
        }
      ]
    },
    {
      "cell_type": "code",
      "metadata": {
        "id": "e6FPCiBg7J3j",
        "colab": {
          "base_uri": "https://localhost:8080/"
        },
        "outputId": "ff42c76b-1159-49f8-ad67-db33d5a10ff3"
      },
      "source": [
        "three_dim_list[0][1][0]"
      ],
      "execution_count": 10,
      "outputs": [
        {
          "output_type": "execute_result",
          "data": {
            "text/plain": [
              "121"
            ]
          },
          "metadata": {},
          "execution_count": 10
        }
      ]
    },
    {
      "cell_type": "code",
      "metadata": {
        "id": "fY5hYYk_53Ws",
        "colab": {
          "base_uri": "https://localhost:8080/"
        },
        "outputId": "1f6acc92-f5a2-4161-e92c-f421f67ec567"
      },
      "source": [
        "three_dim_list[1][2][1]"
      ],
      "execution_count": 11,
      "outputs": [
        {
          "output_type": "execute_result",
          "data": {
            "text/plain": [
              "232"
            ]
          },
          "metadata": {},
          "execution_count": 11
        }
      ]
    },
    {
      "cell_type": "code",
      "metadata": {
        "id": "E_qUBN-uSks3",
        "colab": {
          "base_uri": "https://localhost:8080/"
        },
        "outputId": "5283fad3-63f3-42a1-e429-e81e1251854b"
      },
      "source": [
        "for i in range(3): \n",
        "  for j in range(3): \n",
        "    for k in range(3):\n",
        "      print(three_dim_list[i][j][k], end=' ')\n",
        "    print()\n",
        "  print()"
      ],
      "execution_count": 13,
      "outputs": [
        {
          "output_type": "stream",
          "name": "stdout",
          "text": [
            "111 112 113 \n",
            "121 122 123 \n",
            "131 132 133 \n",
            "\n",
            "211 212 213 \n",
            "221 222 223 \n",
            "231 232 233 \n",
            "\n",
            "311 312 313 \n",
            "321 322 323 \n",
            "331 332 333 \n",
            "\n"
          ]
        }
      ]
    },
    {
      "cell_type": "code",
      "metadata": {
        "id": "qs-vfeIizdzv",
        "colab": {
          "base_uri": "https://localhost:8080/"
        },
        "outputId": "eea63908-78e0-4a7c-b741-db5d12af53ae"
      },
      "source": [
        "for block in three_dim_list:\n",
        "  for row in block:\n",
        "    for item in row:\n",
        "      print(item, end=' ')\n",
        "    print()\n",
        "  print()"
      ],
      "execution_count": 14,
      "outputs": [
        {
          "output_type": "stream",
          "name": "stdout",
          "text": [
            "111 112 113 \n",
            "121 122 123 \n",
            "131 132 133 \n",
            "\n",
            "211 212 213 \n",
            "221 222 223 \n",
            "231 232 233 \n",
            "\n",
            "311 312 313 \n",
            "321 322 323 \n",
            "331 332 333 \n",
            "\n"
          ]
        }
      ]
    },
    {
      "cell_type": "code",
      "metadata": {
        "id": "HteQVNqsoltL",
        "colab": {
          "base_uri": "https://localhost:8080/"
        },
        "outputId": "5b7c2b3a-b713-4d95-f232-95280044879d"
      },
      "source": [
        "num_items = 0\n",
        "\n",
        "for block in three_dim_list:\n",
        "  for row in block:\n",
        "    num_items = num_items + len(row)\n",
        "\n",
        "num_items"
      ],
      "execution_count": 15,
      "outputs": [
        {
          "output_type": "execute_result",
          "data": {
            "text/plain": [
              "27"
            ]
          },
          "metadata": {},
          "execution_count": 15
        }
      ]
    },
    {
      "cell_type": "markdown",
      "metadata": {
        "id": "SwrzH2vNIabl"
      },
      "source": [
        "---"
      ]
    },
    {
      "cell_type": "markdown",
      "metadata": {
        "id": "5A_J5TEyp0Ew"
      },
      "source": [
        "####Sorting List Items "
      ]
    },
    {
      "cell_type": "code",
      "metadata": {
        "id": "3LDGgfcwp93Y",
        "colab": {
          "base_uri": "https://localhost:8080/"
        },
        "outputId": "1c28ff64-6234-4897-a3ce-45c09ae5aa25"
      },
      "source": [
        "def selection_sort(array, n): \n",
        "  for i in range(n - 1):\n",
        "    index_min_val = i \n",
        "    for j in range(index_min_val + 1, n): \n",
        "      if array[j] < array[index_min_val]:\n",
        "        index_min_val = j \n",
        "    temp = array[i] \n",
        "    array[i] = array[index_min_val] \n",
        "    array[index_min_val] = temp\n",
        "    \n",
        "  return array \n",
        "\n",
        "print(selection_sort([4, 6, 123, 2, 8, 11], 6))"
      ],
      "execution_count": 16,
      "outputs": [
        {
          "output_type": "stream",
          "name": "stdout",
          "text": [
            "[2, 4, 6, 8, 11, 123]\n"
          ]
        }
      ]
    },
    {
      "cell_type": "markdown",
      "metadata": {
        "id": "WIJkW_fNpcvF"
      },
      "source": [
        "---"
      ]
    }
  ]
}