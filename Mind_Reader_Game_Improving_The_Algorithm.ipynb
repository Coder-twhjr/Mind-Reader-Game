{
  "nbformat": 4,
  "nbformat_minor": 0,
  "metadata": {
    "colab": {
      "provenance": [],
      "collapsed_sections": [],
      "include_colab_link": true
    },
    "kernelspec": {
      "name": "python3",
      "display_name": "Python 3"
    }
  },
  "cells": [
    {
      "cell_type": "markdown",
      "metadata": {
        "id": "view-in-github",
        "colab_type": "text"
      },
      "source": [
        "<a href=\"https://colab.research.google.com/github/Coder-twhjr/Mind-Reader-Game/blob/main/Mind_Reader_Game_Improving_The_Algorithm.ipynb\" target=\"_parent\"><img src=\"https://colab.research.google.com/assets/colab-badge.svg\" alt=\"Open In Colab\"/></a>"
      ]
    },
    {
      "cell_type": "markdown",
      "metadata": {
        "id": "36AnVJBlmWqU"
      },
      "source": [
        "#Mind Reader Game - Improving The Algorithm"
      ]
    },
    {
      "cell_type": "markdown",
      "metadata": {
        "id": "Y5ggFMVq9nzn"
      },
      "source": [
        "---"
      ]
    },
    {
      "cell_type": "markdown",
      "metadata": {
        "id": "T8h_6DdeM8nm"
      },
      "source": [
        "#### Initialise The Variables\n",
        "\n",
        "- `count_zero` - to store the count of the number of times a player has entered `0`.\n",
        "    \n",
        "- `count_one` - to store the count of the number of times a player has entered `1`.\n",
        "\n",
        "- `player_score` - to keep the score of a player.\n",
        "\n",
        "- `computer_score` - to keep the score of the computer."
      ]
    },
    {
      "cell_type": "code",
      "metadata": {
        "id": "W4LxntSS4TLQ"
      },
      "source": [
        "count_zero = 0\n",
        "count_one = 0\n",
        "\n",
        "player_score = 0\n",
        "computer_score = 0"
      ],
      "execution_count": null,
      "outputs": []
    },
    {
      "cell_type": "markdown",
      "metadata": {
        "id": "QEV4jQkV4MDR"
      },
      "source": [
        "---"
      ]
    },
    {
      "cell_type": "markdown",
      "metadata": {
        "id": "oA5obgxNw79x"
      },
      "source": [
        "#### Functions\n",
        "\n",
        "\n",
        "- The `prediction()` function to predict `0` or `1`.\n",
        "\n",
        "- The `update_counts()` function to update the `count_zero` and `count_one` values. \n",
        "\n",
        "- The `update_scores()` function to update the `player_score` and `computer_score` values.\n",
        "\n",
        "- The `gameplay()` function to run the game.\n"
      ]
    },
    {
      "cell_type": "code",
      "metadata": {
        "id": "pLGmknOMVy4R"
      },
      "source": [
        "def add_numbers(num1, num2):\n",
        "  result = num1 + num2\n",
        "  return result"
      ],
      "execution_count": null,
      "outputs": []
    },
    {
      "cell_type": "code",
      "metadata": {
        "colab": {
          "base_uri": "https://localhost:8080/"
        },
        "id": "5cxxcDE8FHyc",
        "outputId": "aff53d26-3d0a-4ef0-c6e3-ac2a9a48066c"
      },
      "source": [
        "add_numbers(8,5)"
      ],
      "execution_count": null,
      "outputs": [
        {
          "output_type": "execute_result",
          "data": {
            "text/plain": [
              "13"
            ]
          },
          "metadata": {},
          "execution_count": 3
        }
      ]
    },
    {
      "cell_type": "code",
      "metadata": {
        "id": "p4dmZJytKDhU"
      },
      "source": [
        "def add_numbers(num1, num2):\n",
        "  result = num1 + num2\n",
        "\n",
        "add_numbers(10,15)"
      ],
      "execution_count": null,
      "outputs": []
    },
    {
      "cell_type": "code",
      "metadata": {
        "id": "N5A0HxDHuQIm",
        "colab": {
          "base_uri": "https://localhost:8080/"
        },
        "outputId": "9af34a5c-1d6c-4ceb-a3ec-e1a552b75e04"
      },
      "source": [
        "def no_input():\n",
        "  return \"AI\"\n",
        "\n",
        "print(no_input())\n",
        "print(no_input())\n",
        "print(no_input())"
      ],
      "execution_count": null,
      "outputs": [
        {
          "output_type": "stream",
          "name": "stdout",
          "text": [
            "AI\n",
            "AI\n",
            "AI\n"
          ]
        }
      ]
    },
    {
      "cell_type": "markdown",
      "metadata": {
        "id": "CqCzEbrLWWJv"
      },
      "source": [
        "---"
      ]
    },
    {
      "cell_type": "markdown",
      "metadata": {
        "id": "ut_QJ8MgCrit"
      },
      "source": [
        "####The `prediction()` Function\n"
      ]
    },
    {
      "cell_type": "code",
      "metadata": {
        "id": "3qhYChiwG0XG",
        "colab": {
          "base_uri": "https://localhost:8080/"
        },
        "outputId": "e5c9f361-4b92-4307-c33b-385ef3869115"
      },
      "source": [
        "import random\n",
        "\n",
        "def prediction():\n",
        "  if count_zero > count_one:\n",
        "    predict = 0\n",
        "  elif count_one > count_zero:\n",
        "    predict = 1\n",
        "  else:\n",
        "    predict = random.randint(0, 1)\n",
        "  return predict\n",
        "\n",
        "prediction()"
      ],
      "execution_count": null,
      "outputs": [
        {
          "output_type": "execute_result",
          "data": {
            "text/plain": [
              "0"
            ]
          },
          "metadata": {},
          "execution_count": 6
        }
      ]
    },
    {
      "cell_type": "markdown",
      "metadata": {
        "id": "zbiqUd30JH3j"
      },
      "source": [
        "---"
      ]
    },
    {
      "cell_type": "markdown",
      "metadata": {
        "id": "RSRhb-AKHz2l"
      },
      "source": [
        "####The `update_counts()` Function And The `global` Keyword\n"
      ]
    },
    {
      "cell_type": "code",
      "metadata": {
        "id": "SzOH8m_2Iyls"
      },
      "source": [
        "def update_counts(player_input):\n",
        "  global count_zero, count_one\n",
        "  if player_input == 0:\n",
        "    count_zero = count_zero + 1\n",
        "  else:\n",
        "    count_one = count_one + 1"
      ],
      "execution_count": null,
      "outputs": []
    },
    {
      "cell_type": "code",
      "metadata": {
        "id": "8XAlsW5wLKyh",
        "colab": {
          "base_uri": "https://localhost:8080/"
        },
        "outputId": "67e61f38-7e21-4d85-b62f-29a96dcbc33d"
      },
      "source": [
        "update_counts(0)\n",
        "update_counts(0)\n",
        "update_counts(1)\n",
        "\n",
        "print(\"count_zero =\", count_zero)\n",
        "print(\"count_one =\", count_one)"
      ],
      "execution_count": null,
      "outputs": [
        {
          "output_type": "stream",
          "name": "stdout",
          "text": [
            "count_zero = 2\n",
            "count_one = 1\n"
          ]
        }
      ]
    },
    {
      "cell_type": "markdown",
      "metadata": {
        "id": "ig1UGSn1MWy_"
      },
      "source": [
        "---"
      ]
    },
    {
      "cell_type": "markdown",
      "metadata": {
        "id": "z_qOozBHMYz-"
      },
      "source": [
        "####The `update_scores()` Function\n"
      ]
    },
    {
      "cell_type": "code",
      "metadata": {
        "id": "0kmauZcVVDEK"
      },
      "source": [
        "def update_scores(predicted, player_input):\n",
        "  global player_score, computer_score\n",
        "  if predicted == player_input:\n",
        "    computer_score = computer_score + 1\n",
        "    print(\"Computer Score:\", computer_score)\n",
        "    print(\"Player Score:\", player_score)\n",
        "  else:\n",
        "    player_score = player_score + 1\n",
        "    print(\"Computer Score:\", computer_score)\n",
        "    print(\"Player Score:\", player_score)"
      ],
      "execution_count": null,
      "outputs": []
    },
    {
      "cell_type": "code",
      "metadata": {
        "id": "kRXCln3jgpzU",
        "colab": {
          "base_uri": "https://localhost:8080/"
        },
        "outputId": "c1b6c170-f6e3-4eee-f6bb-1bf0259e1ddc"
      },
      "source": [
        "count_zero = 0\n",
        "count_one = 0\n",
        "\n",
        "player_score = 0\n",
        "computer_score = 0\n",
        "\n",
        "\n",
        "predicted = prediction()\n",
        "print(\"First prediction:\", predicted)\n",
        "update_counts(0)\n",
        "update_scores(predicted, 0)\n",
        "\n",
        "print()\n",
        "\n",
        "\n",
        "predicted = prediction()\n",
        "print(\"Second prediction:\", predicted)\n",
        "update_counts(0)\n",
        "update_scores(predicted, 0)"
      ],
      "execution_count": null,
      "outputs": [
        {
          "output_type": "stream",
          "name": "stdout",
          "text": [
            "First prediction: 1\n",
            "Computer Score: 0\n",
            "Player Score: 1\n",
            "\n",
            "Second prediction: 0\n",
            "Computer Score: 1\n",
            "Player Score: 1\n"
          ]
        }
      ]
    },
    {
      "cell_type": "markdown",
      "metadata": {
        "id": "SYoZZ9t7ufNC"
      },
      "source": [
        "---"
      ]
    },
    {
      "cell_type": "markdown",
      "metadata": {
        "id": "vXBQ-FmRhgAh"
      },
      "source": [
        "####The `gameplay()` Function\n"
      ]
    },
    {
      "cell_type": "code",
      "metadata": {
        "id": "_Ih-2w4qj-cq"
      },
      "source": [
        "def gameplay():\n",
        "  valid_entries = ['0', '1']\n",
        "  while True:\n",
        "   \n",
        "    predicted = prediction()\n",
        "   \n",
        "    player_input = input(\"Enter either 0 or 1: \")\n",
        "    while player_input not in valid_entries:\n",
        "      print(\"Invalid Input!\")\n",
        "      player_input = input(\"Please enter either 0 or 1: \")\n",
        "    \n",
        "   \n",
        "    player_input = int(player_input)\n",
        "\n",
        "   \n",
        "    update_counts(player_input)\n",
        "\n",
        "    update_scores(predicted, player_input)\n",
        "\n",
        "    if player_score == 50:\n",
        "      print(\"Congrats, You Won!\")\n",
        "      break\n",
        "    elif computer_score == 50:\n",
        "      print(\"Bad Luck, You Lost!\")\n",
        "      break"
      ],
      "execution_count": null,
      "outputs": []
    },
    {
      "cell_type": "markdown",
      "metadata": {
        "id": "0Zt0_-Wbkh5T"
      },
      "source": [
        "---"
      ]
    },
    {
      "cell_type": "markdown",
      "metadata": {
        "id": "APuw2qqzkWDz"
      },
      "source": [
        "####Running The Game"
      ]
    },
    {
      "cell_type": "code",
      "metadata": {
        "id": "QzObGx2Etry5",
        "colab": {
          "base_uri": "https://localhost:8080/"
        },
        "outputId": "8c38719d-296a-4fbf-bb12-2bb26ddf582a"
      },
      "source": [
        "import random\n",
        "\n",
        "count_zero = 0\n",
        "count_one = 0\n",
        "\n",
        "player_score = 0\n",
        "computer_score = 0\n",
        "\n",
        "def prediction():\n",
        "  if count_zero > count_one:\n",
        "    predict = 0\n",
        "  elif count_one > count_zero:\n",
        "    predict = 1\n",
        "  else:\n",
        "    predict = random.randint(0, 1)\n",
        "  \n",
        "  return predict\n",
        "\n",
        "def update_counts(player_input):\n",
        "  global count_zero, count_one\n",
        "  if player_input == 0:\n",
        "    count_zero = count_zero + 1\n",
        "  else:\n",
        "    count_one = count_one + 1\n",
        "\n",
        "def update_scores(predicted, player_input):\n",
        "  global player_score, computer_score\n",
        "  if predicted == player_input:\n",
        "    computer_score = computer_score + 1\n",
        "    print(\"Computer Score:\", computer_score)\n",
        "    print(\"Player Score:\", player_score)\n",
        "  else:\n",
        "    player_score = player_score + 1\n",
        "    print(\"Computer Score:\", computer_score)\n",
        "    print(\"Player Score:\", player_score)\n",
        "\n",
        "def gameplay():\n",
        "  valid_entries = ['0', '1']\n",
        "  while True:\n",
        "   \n",
        "    predicted = prediction()\n",
        "    \n",
        "    player_input = input(\"Enter either 0 or 1: \")\n",
        "    while player_input not in valid_entries:\n",
        "      print(\"Invalid Input!\")\n",
        "      player_input = input(\"Please enter either 0 or 1: \")\n",
        "    \n",
        "   \n",
        "    player_input = int(player_input)\n",
        "\n",
        "  \n",
        "    update_counts(player_input)\n",
        "\n",
        "    update_scores(predicted, player_input)\n",
        "\n",
        "    if player_score == 10:\n",
        "      print(\"Congrats, You Won!\")\n",
        "      break\n",
        "    elif computer_score == 10:\n",
        "      print(\"Bad Luck, You Lost!\")\n",
        "      break\n",
        "\n",
        "\n",
        "gameplay()"
      ],
      "execution_count": null,
      "outputs": [
        {
          "output_type": "stream",
          "name": "stdout",
          "text": [
            "Enter either 0 or 1: 1\n",
            "Computer Score: 0\n",
            "Player Score: 1\n",
            "Enter either 0 or 1: 1\n",
            "Computer Score: 1\n",
            "Player Score: 1\n",
            "Enter either 0 or 1: 1\n",
            "Computer Score: 2\n",
            "Player Score: 1\n",
            "Enter either 0 or 1: 0\n",
            "Computer Score: 2\n",
            "Player Score: 2\n",
            "Enter either 0 or 1: 1\n",
            "Computer Score: 3\n",
            "Player Score: 2\n",
            "Enter either 0 or 1: 0\n",
            "Computer Score: 3\n",
            "Player Score: 3\n",
            "Enter either 0 or 1: 0\n",
            "Computer Score: 3\n",
            "Player Score: 4\n",
            "Enter either 0 or 1: 0\n",
            "Computer Score: 3\n",
            "Player Score: 5\n",
            "Enter either 0 or 1: 1\n",
            "Computer Score: 4\n",
            "Player Score: 5\n",
            "Enter either 0 or 1: 1\n",
            "Computer Score: 5\n",
            "Player Score: 5\n",
            "Enter either 0 or 1: 0\n",
            "Enter either 0 or 1: 1\n",
            "Computer Score: 5\n",
            "Player Score: 6\n",
            "Computer Score: 6\n",
            "Player Score: 6\n",
            "Enter either 0 or 1: 1\n",
            "Computer Score: 7\n",
            "Player Score: 6\n",
            "Enter either 0 or 1: 0\n",
            "Computer Score: 7\n",
            "Player Score: 7\n",
            "Enter either 0 or 1: 0\n",
            "Computer Score: 7\n",
            "Player Score: 8\n",
            "Enter either 0 or 1: 1\n",
            "Computer Score: 8\n",
            "Player Score: 8\n",
            "Enter either 0 or 1: 1\n",
            "Computer Score: 9\n",
            "Player Score: 8\n",
            "Enter either 0 or 1: 0\n",
            "Computer Score: 9\n",
            "Player Score: 9\n",
            "Enter either 0 or 1: 0\n",
            "Computer Score: 9\n",
            "Player Score: 10\n",
            "Congrats, You Won!\n"
          ]
        }
      ]
    },
    {
      "cell_type": "markdown",
      "metadata": {
        "id": "apcHWj3NvWUf"
      },
      "source": [
        "---"
      ]
    },
    {
      "cell_type": "markdown",
      "metadata": {
        "id": "CnG2gZTLB2JN"
      },
      "source": [
        "####Newton's Equations Of Motion"
      ]
    },
    {
      "cell_type": "code",
      "metadata": {
        "id": "WpNRPVPJB0jf"
      },
      "source": [
        "def final_velocity(u, a, t):\n",
        "  v = u + a * t\n",
        "  return v"
      ],
      "execution_count": null,
      "outputs": []
    },
    {
      "cell_type": "code",
      "metadata": {
        "id": "-6DC6ILYHkZ6",
        "colab": {
          "base_uri": "https://localhost:8080/"
        },
        "outputId": "d81746b0-3053-4a11-88d1-74809821db6e"
      },
      "source": [
        "final_velocity(10, 2, 3)"
      ],
      "execution_count": null,
      "outputs": [
        {
          "output_type": "execute_result",
          "data": {
            "text/plain": [
              "16"
            ]
          },
          "metadata": {},
          "execution_count": 15
        }
      ]
    },
    {
      "cell_type": "code",
      "metadata": {
        "id": "NTH71V7OJWUo"
      },
      "source": [
        "def distance_covered(u, a, t):\n",
        "  s = u * t + 0.5 * a * (t ** 2)\n",
        "  return s"
      ],
      "execution_count": null,
      "outputs": []
    },
    {
      "cell_type": "code",
      "metadata": {
        "id": "77cYIU26PzFu",
        "colab": {
          "base_uri": "https://localhost:8080/"
        },
        "outputId": "e0b10f93-2225-4b9f-f719-d1992162ea7b"
      },
      "source": [
        "distance_covered(10, 2, 3)"
      ],
      "execution_count": null,
      "outputs": [
        {
          "output_type": "execute_result",
          "data": {
            "text/plain": [
              "39.0"
            ]
          },
          "metadata": {},
          "execution_count": 17
        }
      ]
    },
    {
      "cell_type": "code",
      "metadata": {
        "id": "JCMesSu8LggM"
      },
      "source": [
        "def fin_vel(u, a, s):\n",
        "  v = (u ** 2 + 2 * a * s) ** 0.5\n",
        "  return v"
      ],
      "execution_count": null,
      "outputs": []
    },
    {
      "cell_type": "code",
      "metadata": {
        "id": "4XcMBNehPU03",
        "colab": {
          "base_uri": "https://localhost:8080/"
        },
        "outputId": "b8512dd6-2a07-4a40-8994-03f50519fd3e"
      },
      "source": [
        "fin_vel(5, 3, 100)"
      ],
      "execution_count": null,
      "outputs": [
        {
          "output_type": "execute_result",
          "data": {
            "text/plain": [
              "25.0"
            ]
          },
          "metadata": {},
          "execution_count": 19
        }
      ]
    },
    {
      "cell_type": "markdown",
      "metadata": {
        "id": "YgNO5lRyVhpm"
      },
      "source": [
        "---"
      ]
    }
  ]
}