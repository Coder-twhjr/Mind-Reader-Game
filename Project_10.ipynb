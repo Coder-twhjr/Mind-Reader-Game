{
  "nbformat": 4,
  "nbformat_minor": 0,
  "metadata": {
    "colab": {
      "provenance": [],
      "collapsed_sections": [],
      "include_colab_link": true
    },
    "kernelspec": {
      "name": "python3",
      "display_name": "Python 3"
    }
  },
  "cells": [
    {
      "cell_type": "markdown",
      "metadata": {
        "id": "view-in-github",
        "colab_type": "text"
      },
      "source": [
        "<a href=\"https://colab.research.google.com/github/Coder-twhjr/Mind-Reader-Game/blob/main/Project_10.ipynb\" target=\"_parent\"><img src=\"https://colab.research.google.com/assets/colab-badge.svg\" alt=\"Open In Colab\"/></a>"
      ]
    },
    {
      "cell_type": "markdown",
      "metadata": {
        "id": "fIKnY8occu37"
      },
      "source": [
        "#### Goal of the Project\n",
        "\n",
        "1. Python Lists\n",
        "\n",
        "2. List Comprehension\n",
        "\n",
        "3. NumPy Arrays\n",
        "\n"
      ]
    },
    {
      "cell_type": "code",
      "metadata": {
        "id": "4EAoTskqg041",
        "colab": {
          "base_uri": "https://localhost:8080/"
        },
        "outputId": "d1dac442-a817-4c0a-b08b-e6abf22e8efd"
      },
      "source": [
        "import numpy as np\n",
        "null_arr = np.zeros(10)\n",
        "print(\"Null Array:\",null_arr)\n",
        "print(\"Updating sixth value to 11\")\n",
        "null_arr[5] = 11\n",
        "print(null_arr)"
      ],
      "execution_count": 1,
      "outputs": [
        {
          "output_type": "stream",
          "name": "stdout",
          "text": [
            "Null Array: [0. 0. 0. 0. 0. 0. 0. 0. 0. 0.]\n",
            "Updating sixth value to 11\n",
            "[ 0.  0.  0.  0.  0. 11.  0.  0.  0.  0.]\n"
          ]
        }
      ]
    },
    {
      "cell_type": "markdown",
      "metadata": {
        "id": "xJlPs9X9oeRw"
      },
      "source": [
        "---"
      ]
    },
    {
      "cell_type": "code",
      "metadata": {
        "id": "AtvPTG3kpBoS",
        "colab": {
          "base_uri": "https://localhost:8080/"
        },
        "outputId": "e0db3b70-1f97-4f0c-bb62-78c2639c370d"
      },
      "source": [
        "number_list = [num for num in range(50) if num % 5 == 0]\n",
        "print(number_list)"
      ],
      "execution_count": 2,
      "outputs": [
        {
          "output_type": "stream",
          "name": "stdout",
          "text": [
            "[0, 5, 10, 15, 20, 25, 30, 35, 40, 45]\n"
          ]
        }
      ]
    },
    {
      "cell_type": "markdown",
      "metadata": {
        "id": "KOVBiUSMzut1"
      },
      "source": [
        "---"
      ]
    },
    {
      "cell_type": "code",
      "metadata": {
        "id": "0ocKkCNpFWOY",
        "colab": {
          "base_uri": "https://localhost:8080/"
        },
        "outputId": "70ec7482-f34f-4bc6-b638-69373325cde6"
      },
      "source": [
        "import numpy as np\n",
        "lst = [12.23, 13.32, 100, 36.32]\n",
        "print(\"Original List:\",lst)\n",
        "print(\"The data type of original list:\",type(lst))\n",
        "arr = np.array(lst)\n",
        "print(\"One-dimensional NumPy array: \",arr)\n",
        "print(\"The data type of an numpy array:\",type(arr))"
      ],
      "execution_count": 3,
      "outputs": [
        {
          "output_type": "stream",
          "name": "stdout",
          "text": [
            "Original List: [12.23, 13.32, 100, 36.32]\n",
            "The data type of original list: <class 'list'>\n",
            "One-dimensional NumPy array:  [ 12.23  13.32 100.    36.32]\n",
            "The data type of an numpy array: <class 'numpy.ndarray'>\n"
          ]
        }
      ]
    },
    {
      "cell_type": "markdown",
      "metadata": {
        "id": "CvYCPV9fFjpJ"
      },
      "source": [
        "---"
      ]
    }
  ]
}